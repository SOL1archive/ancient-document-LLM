{
 "cells": [
  {
   "cell_type": "code",
   "execution_count": 1,
   "id": "8456d2fb",
   "metadata": {},
   "outputs": [],
   "source": [
    "import numpy as np\n",
    "import pandas as pd\n",
    "\n",
    "from sklearn.model_selection import train_test_split"
   ]
  },
  {
   "cell_type": "code",
   "execution_count": 2,
   "id": "5ad145dd",
   "metadata": {},
   "outputs": [
    {
     "data": {
      "text/html": [
       "<div>\n",
       "<style scoped>\n",
       "    .dataframe tbody tr th:only-of-type {\n",
       "        vertical-align: middle;\n",
       "    }\n",
       "\n",
       "    .dataframe tbody tr th {\n",
       "        vertical-align: top;\n",
       "    }\n",
       "\n",
       "    .dataframe thead th {\n",
       "        text-align: right;\n",
       "    }\n",
       "</style>\n",
       "<table border=\"1\" class=\"dataframe\">\n",
       "  <thead>\n",
       "    <tr style=\"text-align: right;\">\n",
       "      <th></th>\n",
       "      <th>king</th>\n",
       "      <th>king_order</th>\n",
       "      <th>year</th>\n",
       "      <th>relative_year</th>\n",
       "      <th>month</th>\n",
       "      <th>entry_order</th>\n",
       "      <th>original_text</th>\n",
       "      <th>translated_text</th>\n",
       "    </tr>\n",
       "  </thead>\n",
       "  <tbody>\n",
       "    <tr>\n",
       "      <th>0</th>\n",
       "      <td>태조</td>\n",
       "      <td>1</td>\n",
       "      <td>NaN</td>\n",
       "      <td>NaN</td>\n",
       "      <td>총서</td>\n",
       "      <td>1.0</td>\n",
       "      <td>太祖康獻至仁啓運聖文神武大王, 姓李氏, 諱旦, 字君晋, 古諱成桂, 號松軒, 全州大姓也...</td>\n",
       "      <td>태조 강헌 지인 계운 성문 신무 대왕(太祖康獻至仁啓運聖文神武大王)의 성은 이씨(李氏...</td>\n",
       "    </tr>\n",
       "    <tr>\n",
       "      <th>1</th>\n",
       "      <td>태조</td>\n",
       "      <td>1</td>\n",
       "      <td>NaN</td>\n",
       "      <td>NaN</td>\n",
       "      <td>총서</td>\n",
       "      <td>2.0</td>\n",
       "      <td>○明年乙卯, 散吉聞于元帝, 元爲立斡東千戶所, 給降金牌, 爲南京等處五千戶所, 首千戶、...</td>\n",
       "      <td>명년 을묘(1255)에 산길이 이 사실을 원(元)나라 황제에게 알리니, 원나라에서 ...</td>\n",
       "    </tr>\n",
       "    <tr>\n",
       "      <th>2</th>\n",
       "      <td>태조</td>\n",
       "      <td>1</td>\n",
       "      <td>NaN</td>\n",
       "      <td>NaN</td>\n",
       "      <td>총서</td>\n",
       "      <td>3.0</td>\n",
       "      <td>○斡東東南三十餘里, 有海島曰者考羅, 北連於陸。 穆祖築石城, 以放牛馬。</td>\n",
       "      <td>알동의 동남쪽 30여 리에 해도(海島)가 있는데, 자고라(者考羅)라고 한다. 북쪽으...</td>\n",
       "    </tr>\n",
       "    <tr>\n",
       "      <th>3</th>\n",
       "      <td>태조</td>\n",
       "      <td>1</td>\n",
       "      <td>NaN</td>\n",
       "      <td>NaN</td>\n",
       "      <td>총서</td>\n",
       "      <td>4.0</td>\n",
       "      <td>○憲宗八年, 受散吉令旨, 管領李春、文大純、趙奧、魯哥兒、卓靑、尙哉、光奕、張哥等八介百戶...</td>\n",
       "      <td>〈원나라〉 헌종(憲宗) 8년(1258)에 산길(散吉)의 영지(令旨)를 받아, 이춘(...</td>\n",
       "    </tr>\n",
       "    <tr>\n",
       "      <th>4</th>\n",
       "      <td>태조</td>\n",
       "      <td>1</td>\n",
       "      <td>NaN</td>\n",
       "      <td>NaN</td>\n",
       "      <td>총서</td>\n",
       "      <td>5.0</td>\n",
       "      <td>○世祖皇帝 中統二年辛酉六月, 尙書省給降本所行使銅印。</td>\n",
       "      <td>세조 황제(世祖皇帝) 중통(中統) 2년(1261) 신유 6월에 상서성(尙書省)에서 ...</td>\n",
       "    </tr>\n",
       "  </tbody>\n",
       "</table>\n",
       "</div>"
      ],
      "text/plain": [
       "  king  king_order  year  relative_year month  entry_order  \\\n",
       "0   태조           1   NaN            NaN    총서          1.0   \n",
       "1   태조           1   NaN            NaN    총서          2.0   \n",
       "2   태조           1   NaN            NaN    총서          3.0   \n",
       "3   태조           1   NaN            NaN    총서          4.0   \n",
       "4   태조           1   NaN            NaN    총서          5.0   \n",
       "\n",
       "                                       original_text  \\\n",
       "0  太祖康獻至仁啓運聖文神武大王, 姓李氏, 諱旦, 字君晋, 古諱成桂, 號松軒, 全州大姓也...   \n",
       "1  ○明年乙卯, 散吉聞于元帝, 元爲立斡東千戶所, 給降金牌, 爲南京等處五千戶所, 首千戶、...   \n",
       "2             ○斡東東南三十餘里, 有海島曰者考羅, 北連於陸。 穆祖築石城, 以放牛馬。   \n",
       "3  ○憲宗八年, 受散吉令旨, 管領李春、文大純、趙奧、魯哥兒、卓靑、尙哉、光奕、張哥等八介百戶...   \n",
       "4                       ○世祖皇帝 中統二年辛酉六月, 尙書省給降本所行使銅印。   \n",
       "\n",
       "                                     translated_text  \n",
       "0  태조 강헌 지인 계운 성문 신무 대왕(太祖康獻至仁啓運聖文神武大王)의 성은 이씨(李氏...  \n",
       "1  명년 을묘(1255)에 산길이 이 사실을 원(元)나라 황제에게 알리니, 원나라에서 ...  \n",
       "2  알동의 동남쪽 30여 리에 해도(海島)가 있는데, 자고라(者考羅)라고 한다. 북쪽으...  \n",
       "3  〈원나라〉 헌종(憲宗) 8년(1258)에 산길(散吉)의 영지(令旨)를 받아, 이춘(...  \n",
       "4  세조 황제(世祖皇帝) 중통(中統) 2년(1261) 신유 6월에 상서성(尙書省)에서 ...  "
      ]
     },
     "execution_count": 2,
     "metadata": {},
     "output_type": "execute_result"
    }
   ],
   "source": [
    "df1 = pd.read_parquet('./data/sillok_finetune.parquet', engine='pyarrow')\n",
    "df1.head()"
   ]
  },
  {
   "cell_type": "code",
   "execution_count": 3,
   "id": "e68cf944",
   "metadata": {},
   "outputs": [
    {
     "data": {
      "text/plain": [
       "year\n",
       "1618.0    5235\n",
       "1612.0    4061\n",
       "1613.0    3720\n",
       "1616.0    3440\n",
       "1617.0    3260\n",
       "          ... \n",
       "1607.0      54\n",
       "1586.0      47\n",
       "1571.0      43\n",
       "1582.0      37\n",
       "1928.0       7\n",
       "Name: count, Length: 372, dtype: int64"
      ]
     },
     "execution_count": 3,
     "metadata": {},
     "output_type": "execute_result"
    }
   ],
   "source": [
    "df1['year'].value_counts()"
   ]
  },
  {
   "cell_type": "code",
   "execution_count": 4,
   "id": "3c8483e8",
   "metadata": {},
   "outputs": [
    {
     "name": "stderr",
     "output_type": "stream",
     "text": [
      "/var/folders/l4/xcb152_d5v51k4kx19t42f0w0000gn/T/ipykernel_79324/1582849484.py:1: RuntimeWarning: invalid value encountered in cast\n",
      "  df1['relative_year'].unique().astype(int)\n"
     ]
    },
    {
     "data": {
      "text/plain": [
       "array([   0,    1,    2,    3,    4,    5,    6,    7,    8,    9,   10,\n",
       "         11,   12,   13,   14,   15,   16,   17,   18, 1418,   19,   20,\n",
       "         21,   22,   23,   24,   25,   26,   27,   28,   29,   30,   31,\n",
       "         32, 1450, 1468, 1469,   33,   34,   35,   36,   37,   38,   39,\n",
       "       1545, 1567,   40,   41, 1608, 1649, 1659, 1674,   42,   43,   44,\n",
       "         45,   46, 1720, 1863, 1907])"
      ]
     },
     "execution_count": 4,
     "metadata": {},
     "output_type": "execute_result"
    }
   ],
   "source": [
    "df1['relative_year'].unique().astype(int)"
   ]
  },
  {
   "cell_type": "code",
   "execution_count": 5,
   "id": "e4905f11",
   "metadata": {},
   "outputs": [
    {
     "data": {
      "text/plain": [
       "array(['총서', '7월', '8월', '9월', '10월', '11월', '12월', '윤12월', '1월', '2월',\n",
       "       '3월', '4월', '5월', '6월', '윤9월', '윤5월', '윤3월', '윤11월', '윤7월', '윤4월',\n",
       "       '윤1월', '윤8월', '윤6월', '윤2월', '윤10월'], dtype=object)"
      ]
     },
     "execution_count": 5,
     "metadata": {},
     "output_type": "execute_result"
    }
   ],
   "source": [
    "df1['month'].unique()"
   ]
  },
  {
   "cell_type": "code",
   "execution_count": 6,
   "id": "f6e7810e",
   "metadata": {},
   "outputs": [
    {
     "data": {
      "text/plain": [
       "308554"
      ]
     },
     "execution_count": 6,
     "metadata": {},
     "output_type": "execute_result"
    }
   ],
   "source": [
    "len(df1)"
   ]
  },
  {
   "cell_type": "code",
   "execution_count": 7,
   "id": "6ac8bbc6",
   "metadata": {},
   "outputs": [
    {
     "data": {
      "text/plain": [
       "'○司憲府啓尹英賢、朴燁事。 【정족산사고본】 24책 106권 11장 A면【국편영인본】 광해군일기32책 506면 【분류】정론-간쟁(諫諍) / 인사-임면(任免) / 사법-탄핵(彈劾)'"
      ]
     },
     "execution_count": 7,
     "metadata": {},
     "output_type": "execute_result"
    }
   ],
   "source": [
    "df1['original_text'].sample(1).iloc[0]"
   ]
  },
  {
   "cell_type": "code",
   "execution_count": 8,
   "id": "35f90192",
   "metadata": {},
   "outputs": [
    {
     "data": {
      "text/plain": [
       "count    308554.000000\n",
       "mean        215.600537\n",
       "std        1404.764642\n",
       "min           2.000000\n",
       "25%          22.000000\n",
       "50%          73.000000\n",
       "75%         200.000000\n",
       "max      361261.000000\n",
       "Name: original_text, dtype: float64"
      ]
     },
     "execution_count": 8,
     "metadata": {},
     "output_type": "execute_result"
    }
   ],
   "source": [
    "df1['original_text'].str.len().describe()"
   ]
  },
  {
   "cell_type": "code",
   "execution_count": 9,
   "id": "50389074",
   "metadata": {},
   "outputs": [
    {
     "data": {
      "text/plain": [
       "count     308554\n",
       "mean         516\n",
       "std         3006\n",
       "min            0\n",
       "25%           52\n",
       "50%          170\n",
       "75%          510\n",
       "max      1232042\n",
       "Name: translated_text, dtype: int64"
      ]
     },
     "execution_count": 9,
     "metadata": {},
     "output_type": "execute_result"
    }
   ],
   "source": [
    "df1['translated_text'].str.len().describe().astype(int)"
   ]
  },
  {
   "cell_type": "code",
   "execution_count": 10,
   "id": "c555c3be",
   "metadata": {},
   "outputs": [
    {
     "data": {
      "text/plain": [
       "0.0016625939057668998"
      ]
     },
     "execution_count": 10,
     "metadata": {},
     "output_type": "execute_result"
    }
   ],
   "source": [
    "(df1['original_text'].str.len() > 5000).mean()"
   ]
  },
  {
   "cell_type": "code",
   "execution_count": 11,
   "id": "a8a21f0e",
   "metadata": {},
   "outputs": [
    {
     "data": {
      "text/plain": [
       "0.11937618698833916"
      ]
     },
     "execution_count": 11,
     "metadata": {},
     "output_type": "execute_result"
    }
   ],
   "source": [
    "((df1['translated_text'].str.len() > 1000) & (df1['translated_text'].str.len() < 6000)).mean()"
   ]
  },
  {
   "cell_type": "markdown",
   "id": "f4398945",
   "metadata": {},
   "source": [
    "따라서 `translated_text`의 길이가 1000보다 높으면서,6000보다 작은 샘플들 중에서 70%, 1000보다 작은 샘플들에서 30%를 추출하여 test set을 구성함."
   ]
  },
  {
   "cell_type": "code",
   "execution_count": 12,
   "id": "5c4dc1aa",
   "metadata": {},
   "outputs": [
    {
     "data": {
      "text/plain": [
       "array([[1.        , 0.54443249],\n",
       "       [0.54443249, 1.        ]])"
      ]
     },
     "execution_count": 12,
     "metadata": {},
     "output_type": "execute_result"
    }
   ],
   "source": [
    "np.corrcoef(df1['original_text'].str.len(), df1['translated_text'].str.len())"
   ]
  },
  {
   "cell_type": "code",
   "execution_count": 13,
   "id": "fbdfefdb",
   "metadata": {},
   "outputs": [
    {
     "data": {
      "text/plain": [
       "count    298465.000000\n",
       "mean        357.075912\n",
       "std         500.687014\n",
       "min           0.000000\n",
       "25%          50.000000\n",
       "50%         159.000000\n",
       "75%         454.000000\n",
       "max       14683.000000\n",
       "Name: translated_text, dtype: float64"
      ]
     },
     "execution_count": 13,
     "metadata": {},
     "output_type": "execute_result"
    }
   ],
   "source": [
    "df1[df1['original_text'].str.len() < 1000]['translated_text'].str.len().describe()"
   ]
  },
  {
   "cell_type": "code",
   "execution_count": 14,
   "id": "be0ce377",
   "metadata": {},
   "outputs": [
    {
     "data": {
      "text/plain": [
       "count    280374.000000\n",
       "mean        268.493751\n",
       "std         325.297855\n",
       "min           0.000000\n",
       "25%          46.000000\n",
       "50%         139.000000\n",
       "75%         373.000000\n",
       "max       10633.000000\n",
       "Name: translated_text, dtype: float64"
      ]
     },
     "execution_count": 14,
     "metadata": {},
     "output_type": "execute_result"
    }
   ],
   "source": [
    "df1[df1['original_text'].str.len() < 500]['translated_text'].str.len().describe()"
   ]
  },
  {
   "cell_type": "code",
   "execution_count": 15,
   "id": "abf98819",
   "metadata": {},
   "outputs": [
    {
     "data": {
      "text/plain": [
       "count     308554\n",
       "mean         516\n",
       "std         3006\n",
       "min            0\n",
       "25%           52\n",
       "50%          170\n",
       "75%          510\n",
       "max      1232042\n",
       "Name: translated_text, dtype: int64"
      ]
     },
     "execution_count": 15,
     "metadata": {},
     "output_type": "execute_result"
    }
   ],
   "source": [
    "df1['translated_text'].str.len().describe().astype(int)"
   ]
  },
  {
   "cell_type": "code",
   "execution_count": 16,
   "id": "b98ccc6f",
   "metadata": {},
   "outputs": [
    {
     "data": {
      "text/plain": [
       "<Axes: >"
      ]
     },
     "execution_count": 16,
     "metadata": {},
     "output_type": "execute_result"
    },
    {
     "data": {
      "image/png": "[encoded data removed]",
      "text/plain": [
       "<Figure size 640x480 with 1 Axes>"
      ]
     },
     "metadata": {},
     "output_type": "display_data"
    }
   ],
   "source": [
    "df1['original_text'].str.len().hist(bins=100)"
   ]
  },
  {
   "cell_type": "code",
   "execution_count": 17,
   "id": "9ddcd66e",
   "metadata": {},
   "outputs": [
    {
     "data": {
      "text/plain": [
       "<Axes: >"
      ]
     },
     "execution_count": 17,
     "metadata": {},
     "output_type": "execute_result"
    },
    {
     "data": {
      "image/png": "[encoded data removed]",
      "text/plain": [
       "<Figure size 640x480 with 1 Axes>"
      ]
     },
     "metadata": {},
     "output_type": "display_data"
    }
   ],
   "source": [
    "df1['translated_text'].str.len().hist(bins=100)"
   ]
  },
  {
   "cell_type": "markdown",
   "id": "1a19df9f",
   "metadata": {},
   "source": [
    "## Train / Test Set Hold"
   ]
  },
  {
   "cell_type": "code",
   "execution_count": 18,
   "id": "8a35f949",
   "metadata": {},
   "outputs": [
    {
     "data": {
      "text/html": [
       "<div>\n",
       "<style scoped>\n",
       "    .dataframe tbody tr th:only-of-type {\n",
       "        vertical-align: middle;\n",
       "    }\n",
       "\n",
       "    .dataframe tbody tr th {\n",
       "        vertical-align: top;\n",
       "    }\n",
       "\n",
       "    .dataframe thead th {\n",
       "        text-align: right;\n",
       "    }\n",
       "</style>\n",
       "<table border=\"1\" class=\"dataframe\">\n",
       "  <thead>\n",
       "    <tr style=\"text-align: right;\">\n",
       "      <th></th>\n",
       "      <th>king</th>\n",
       "      <th>king_order</th>\n",
       "      <th>year</th>\n",
       "      <th>relative_year</th>\n",
       "      <th>month</th>\n",
       "      <th>entry_order</th>\n",
       "      <th>original_text</th>\n",
       "      <th>translated_text</th>\n",
       "    </tr>\n",
       "  </thead>\n",
       "  <tbody>\n",
       "    <tr>\n",
       "      <th>0</th>\n",
       "      <td>태조</td>\n",
       "      <td>1</td>\n",
       "      <td>NaN</td>\n",
       "      <td>NaN</td>\n",
       "      <td>총서</td>\n",
       "      <td>1.0</td>\n",
       "      <td>太祖康獻至仁啓運聖文神武大王, 姓李氏, 諱旦, 字君晋, 古諱成桂, 號松軒, 全州大姓也...</td>\n",
       "      <td>태조 강헌 지인 계운 성문 신무 대왕(太祖康獻至仁啓運聖文神武大王)의 성은 이씨(李氏...</td>\n",
       "    </tr>\n",
       "    <tr>\n",
       "      <th>1</th>\n",
       "      <td>태조</td>\n",
       "      <td>1</td>\n",
       "      <td>NaN</td>\n",
       "      <td>NaN</td>\n",
       "      <td>총서</td>\n",
       "      <td>2.0</td>\n",
       "      <td>○明年乙卯, 散吉聞于元帝, 元爲立斡東千戶所, 給降金牌, 爲南京等處五千戶所, 首千戶、...</td>\n",
       "      <td>명년 을묘(1255)에 산길이 이 사실을 원(元)나라 황제에게 알리니, 원나라에서 ...</td>\n",
       "    </tr>\n",
       "    <tr>\n",
       "      <th>2</th>\n",
       "      <td>태조</td>\n",
       "      <td>1</td>\n",
       "      <td>NaN</td>\n",
       "      <td>NaN</td>\n",
       "      <td>총서</td>\n",
       "      <td>3.0</td>\n",
       "      <td>○斡東東南三十餘里, 有海島曰者考羅, 北連於陸。 穆祖築石城, 以放牛馬。</td>\n",
       "      <td>알동의 동남쪽 30여 리에 해도(海島)가 있는데, 자고라(者考羅)라고 한다. 북쪽으...</td>\n",
       "    </tr>\n",
       "    <tr>\n",
       "      <th>3</th>\n",
       "      <td>태조</td>\n",
       "      <td>1</td>\n",
       "      <td>NaN</td>\n",
       "      <td>NaN</td>\n",
       "      <td>총서</td>\n",
       "      <td>4.0</td>\n",
       "      <td>○憲宗八年, 受散吉令旨, 管領李春、文大純、趙奧、魯哥兒、卓靑、尙哉、光奕、張哥等八介百戶...</td>\n",
       "      <td>〈원나라〉 헌종(憲宗) 8년(1258)에 산길(散吉)의 영지(令旨)를 받아, 이춘(...</td>\n",
       "    </tr>\n",
       "    <tr>\n",
       "      <th>4</th>\n",
       "      <td>태조</td>\n",
       "      <td>1</td>\n",
       "      <td>NaN</td>\n",
       "      <td>NaN</td>\n",
       "      <td>총서</td>\n",
       "      <td>5.0</td>\n",
       "      <td>○世祖皇帝 中統二年辛酉六月, 尙書省給降本所行使銅印。</td>\n",
       "      <td>세조 황제(世祖皇帝) 중통(中統) 2년(1261) 신유 6월에 상서성(尙書省)에서 ...</td>\n",
       "    </tr>\n",
       "  </tbody>\n",
       "</table>\n",
       "</div>"
      ],
      "text/plain": [
       "  king  king_order  year  relative_year month  entry_order  \\\n",
       "0   태조           1   NaN            NaN    총서          1.0   \n",
       "1   태조           1   NaN            NaN    총서          2.0   \n",
       "2   태조           1   NaN            NaN    총서          3.0   \n",
       "3   태조           1   NaN            NaN    총서          4.0   \n",
       "4   태조           1   NaN            NaN    총서          5.0   \n",
       "\n",
       "                                       original_text  \\\n",
       "0  太祖康獻至仁啓運聖文神武大王, 姓李氏, 諱旦, 字君晋, 古諱成桂, 號松軒, 全州大姓也...   \n",
       "1  ○明年乙卯, 散吉聞于元帝, 元爲立斡東千戶所, 給降金牌, 爲南京等處五千戶所, 首千戶、...   \n",
       "2             ○斡東東南三十餘里, 有海島曰者考羅, 北連於陸。 穆祖築石城, 以放牛馬。   \n",
       "3  ○憲宗八年, 受散吉令旨, 管領李春、文大純、趙奧、魯哥兒、卓靑、尙哉、光奕、張哥等八介百戶...   \n",
       "4                       ○世祖皇帝 中統二年辛酉六月, 尙書省給降本所行使銅印。   \n",
       "\n",
       "                                     translated_text  \n",
       "0  태조 강헌 지인 계운 성문 신무 대왕(太祖康獻至仁啓運聖文神武大王)의 성은 이씨(李氏...  \n",
       "1  명년 을묘(1255)에 산길이 이 사실을 원(元)나라 황제에게 알리니, 원나라에서 ...  \n",
       "2  알동의 동남쪽 30여 리에 해도(海島)가 있는데, 자고라(者考羅)라고 한다. 북쪽으...  \n",
       "3  〈원나라〉 헌종(憲宗) 8년(1258)에 산길(散吉)의 영지(令旨)를 받아, 이춘(...  \n",
       "4  세조 황제(世祖皇帝) 중통(中統) 2년(1261) 신유 6월에 상서성(尙書省)에서 ...  "
      ]
     },
     "execution_count": 18,
     "metadata": {},
     "output_type": "execute_result"
    }
   ],
   "source": [
    "df1 = df1[df1['translated_text'].str.len() < 6000]\n",
    "df1.head()"
   ]
  },
  {
   "cell_type": "code",
   "execution_count": 19,
   "id": "73feaca7",
   "metadata": {},
   "outputs": [
    {
     "data": {
      "text/html": [
       "<div>\n",
       "<style scoped>\n",
       "    .dataframe tbody tr th:only-of-type {\n",
       "        vertical-align: middle;\n",
       "    }\n",
       "\n",
       "    .dataframe tbody tr th {\n",
       "        vertical-align: top;\n",
       "    }\n",
       "\n",
       "    .dataframe thead th {\n",
       "        text-align: right;\n",
       "    }\n",
       "</style>\n",
       "<table border=\"1\" class=\"dataframe\">\n",
       "  <thead>\n",
       "    <tr style=\"text-align: right;\">\n",
       "      <th></th>\n",
       "      <th>original_text</th>\n",
       "      <th>translated_text</th>\n",
       "    </tr>\n",
       "  </thead>\n",
       "  <tbody>\n",
       "    <tr>\n",
       "      <th>0</th>\n",
       "      <td>太祖康獻至仁啓運聖文神武大王, 姓李氏, 諱旦, 字君晋, 古諱成桂, 號松軒, 全州大姓也...</td>\n",
       "      <td>태조 강헌 지인 계운 성문 신무 대왕(太祖康獻至仁啓運聖文神武大王)의 성은 이씨(李氏...</td>\n",
       "    </tr>\n",
       "    <tr>\n",
       "      <th>1</th>\n",
       "      <td>○明年乙卯, 散吉聞于元帝, 元爲立斡東千戶所, 給降金牌, 爲南京等處五千戶所, 首千戶、...</td>\n",
       "      <td>명년 을묘(1255)에 산길이 이 사실을 원(元)나라 황제에게 알리니, 원나라에서 ...</td>\n",
       "    </tr>\n",
       "    <tr>\n",
       "      <th>2</th>\n",
       "      <td>○斡東東南三十餘里, 有海島曰者考羅, 北連於陸。 穆祖築石城, 以放牛馬。</td>\n",
       "      <td>알동의 동남쪽 30여 리에 해도(海島)가 있는데, 자고라(者考羅)라고 한다. 북쪽으...</td>\n",
       "    </tr>\n",
       "    <tr>\n",
       "      <th>3</th>\n",
       "      <td>○憲宗八年, 受散吉令旨, 管領李春、文大純、趙奧、魯哥兒、卓靑、尙哉、光奕、張哥等八介百戶...</td>\n",
       "      <td>〈원나라〉 헌종(憲宗) 8년(1258)에 산길(散吉)의 영지(令旨)를 받아, 이춘(...</td>\n",
       "    </tr>\n",
       "    <tr>\n",
       "      <th>4</th>\n",
       "      <td>○世祖皇帝 中統二年辛酉六月, 尙書省給降本所行使銅印。</td>\n",
       "      <td>세조 황제(世祖皇帝) 중통(中統) 2년(1261) 신유 6월에 상서성(尙書省)에서 ...</td>\n",
       "    </tr>\n",
       "    <tr>\n",
       "      <th>...</th>\n",
       "      <td>...</td>\n",
       "      <td>...</td>\n",
       "    </tr>\n",
       "    <tr>\n",
       "      <th>308549</th>\n",
       "      <td>三日。 申時, 裕陵啓欑宮。 仍行別奠。</td>\n",
       "      <td>신시(申時)에 유릉(裕陵)에서 찬궁(欑宮)을 열고 별전(別奠)을 행하였다.</td>\n",
       "    </tr>\n",
       "    <tr>\n",
       "      <th>308550</th>\n",
       "      <td>命金昇圭殯殿主監提擧差下。</td>\n",
       "      <td>김승규(金昇圭)를 빈전 주감 제거(殯殿主監提擧)에 차하(差下)하라고 명하였다.</td>\n",
       "    </tr>\n",
       "    <tr>\n",
       "      <th>308551</th>\n",
       "      <td>六日。 【陰曆戊辰五月十九日】 祔純宗于太廟。 純明孝皇后同祔。 御眞奉安于璿源殿。 【純宗...</td>\n",
       "      <td>【음력 무진(戊辰) 5월 19일】 태묘(太廟)에 순종(純宗)의 신주(神主)를 모시고...</td>\n",
       "    </tr>\n",
       "    <tr>\n",
       "      <th>308552</th>\n",
       "      <td>六日。 【陰曆戊辰五月十九日】 祔純宗于太廟。 純明孝皇后同祔。 御眞奉安于璿源殿。 【純宗...</td>\n",
       "      <td>【음력 무진(戊辰) 5월 19일】 태묘(太廟)에 순종(純宗)의 신주(神主)를 모시고...</td>\n",
       "    </tr>\n",
       "    <tr>\n",
       "      <th>308553</th>\n",
       "      <td>三日。 【陰曆戊辰三月十四日】 純明皇后徽號望, 以‘敬顯成徽’議定。</td>\n",
       "      <td>【음력 무진(戊辰) 3월 14일】 순명 황후(純明皇后)의 휘호망(徽號望)으로 ‘경현...</td>\n",
       "    </tr>\n",
       "  </tbody>\n",
       "</table>\n",
       "<p>306628 rows × 2 columns</p>\n",
       "</div>"
      ],
      "text/plain": [
       "                                            original_text  \\\n",
       "0       太祖康獻至仁啓運聖文神武大王, 姓李氏, 諱旦, 字君晋, 古諱成桂, 號松軒, 全州大姓也...   \n",
       "1       ○明年乙卯, 散吉聞于元帝, 元爲立斡東千戶所, 給降金牌, 爲南京等處五千戶所, 首千戶、...   \n",
       "2                  ○斡東東南三十餘里, 有海島曰者考羅, 北連於陸。 穆祖築石城, 以放牛馬。   \n",
       "3       ○憲宗八年, 受散吉令旨, 管領李春、文大純、趙奧、魯哥兒、卓靑、尙哉、光奕、張哥等八介百戶...   \n",
       "4                            ○世祖皇帝 中統二年辛酉六月, 尙書省給降本所行使銅印。   \n",
       "...                                                   ...   \n",
       "308549                               三日。 申時, 裕陵啓欑宮。 仍行別奠。   \n",
       "308550                                      命金昇圭殯殿主監提擧差下。   \n",
       "308551  六日。 【陰曆戊辰五月十九日】 祔純宗于太廟。 純明孝皇后同祔。 御眞奉安于璿源殿。 【純宗...   \n",
       "308552  六日。 【陰曆戊辰五月十九日】 祔純宗于太廟。 純明孝皇后同祔。 御眞奉安于璿源殿。 【純宗...   \n",
       "308553                三日。 【陰曆戊辰三月十四日】 純明皇后徽號望, 以‘敬顯成徽’議定。   \n",
       "\n",
       "                                          translated_text  \n",
       "0       태조 강헌 지인 계운 성문 신무 대왕(太祖康獻至仁啓運聖文神武大王)의 성은 이씨(李氏...  \n",
       "1       명년 을묘(1255)에 산길이 이 사실을 원(元)나라 황제에게 알리니, 원나라에서 ...  \n",
       "2       알동의 동남쪽 30여 리에 해도(海島)가 있는데, 자고라(者考羅)라고 한다. 북쪽으...  \n",
       "3       〈원나라〉 헌종(憲宗) 8년(1258)에 산길(散吉)의 영지(令旨)를 받아, 이춘(...  \n",
       "4       세조 황제(世祖皇帝) 중통(中統) 2년(1261) 신유 6월에 상서성(尙書省)에서 ...  \n",
       "...                                                   ...  \n",
       "308549          신시(申時)에 유릉(裕陵)에서 찬궁(欑宮)을 열고 별전(別奠)을 행하였다.  \n",
       "308550        김승규(金昇圭)를 빈전 주감 제거(殯殿主監提擧)에 차하(差下)하라고 명하였다.  \n",
       "308551  【음력 무진(戊辰) 5월 19일】 태묘(太廟)에 순종(純宗)의 신주(神主)를 모시고...  \n",
       "308552  【음력 무진(戊辰) 5월 19일】 태묘(太廟)에 순종(純宗)의 신주(神主)를 모시고...  \n",
       "308553  【음력 무진(戊辰) 3월 14일】 순명 황후(純明皇后)의 휘호망(徽號望)으로 ‘경현...  \n",
       "\n",
       "[306628 rows x 2 columns]"
      ]
     },
     "execution_count": 19,
     "metadata": {},
     "output_type": "execute_result"
    }
   ],
   "source": [
    "df1[['original_text', 'translated_text']]"
   ]
  },
  {
   "cell_type": "code",
   "execution_count": 20,
   "id": "11599dd6",
   "metadata": {},
   "outputs": [
    {
     "data": {
      "text/plain": [
       "'Train Set Size : 275965, Test Set Size : 30662'"
      ]
     },
     "execution_count": 20,
     "metadata": {},
     "output_type": "execute_result"
    }
   ],
   "source": [
    "f'Train Set Size : {int(len(df1) * 0.9)}, Test Set Size : {int(len(df1) * 0.1)}'"
   ]
  },
  {
   "cell_type": "code",
   "execution_count": 21,
   "id": "3e02a36a",
   "metadata": {},
   "outputs": [
    {
     "data": {
      "text/plain": [
       "'Train Set Size : 275965, Test Set Size : 30662'"
      ]
     },
     "execution_count": 21,
     "metadata": {},
     "output_type": "execute_result"
    }
   ],
   "source": [
    "f'Train Set Size : {int(len(df1) * 0.9)}, Test Set Size : {int(len(df1) * 0.1)}'"
   ]
  },
  {
   "cell_type": "code",
   "execution_count": 22,
   "id": "6cf4cef5",
   "metadata": {},
   "outputs": [
    {
     "data": {
      "text/html": [
       "<div>\n",
       "<style scoped>\n",
       "    .dataframe tbody tr th:only-of-type {\n",
       "        vertical-align: middle;\n",
       "    }\n",
       "\n",
       "    .dataframe tbody tr th {\n",
       "        vertical-align: top;\n",
       "    }\n",
       "\n",
       "    .dataframe thead th {\n",
       "        text-align: right;\n",
       "    }\n",
       "</style>\n",
       "<table border=\"1\" class=\"dataframe\">\n",
       "  <thead>\n",
       "    <tr style=\"text-align: right;\">\n",
       "      <th></th>\n",
       "      <th>king</th>\n",
       "      <th>king_order</th>\n",
       "      <th>year</th>\n",
       "      <th>relative_year</th>\n",
       "      <th>month</th>\n",
       "      <th>entry_order</th>\n",
       "      <th>original_text</th>\n",
       "      <th>translated_text</th>\n",
       "      <th>entry_order_grouped</th>\n",
       "    </tr>\n",
       "  </thead>\n",
       "  <tbody>\n",
       "    <tr>\n",
       "      <th>0</th>\n",
       "      <td>태조</td>\n",
       "      <td>1</td>\n",
       "      <td>NaN</td>\n",
       "      <td>NaN</td>\n",
       "      <td>총서</td>\n",
       "      <td>1.0</td>\n",
       "      <td>太祖康獻至仁啓運聖文神武大王, 姓李氏, 諱旦, 字君晋, 古諱成桂, 號松軒, 全州大姓也...</td>\n",
       "      <td>태조 강헌 지인 계운 성문 신무 대왕(太祖康獻至仁啓運聖文神武大王)의 성은 이씨(李氏...</td>\n",
       "      <td>0.0</td>\n",
       "    </tr>\n",
       "    <tr>\n",
       "      <th>1</th>\n",
       "      <td>태조</td>\n",
       "      <td>1</td>\n",
       "      <td>NaN</td>\n",
       "      <td>NaN</td>\n",
       "      <td>총서</td>\n",
       "      <td>2.0</td>\n",
       "      <td>○明年乙卯, 散吉聞于元帝, 元爲立斡東千戶所, 給降金牌, 爲南京等處五千戶所, 首千戶、...</td>\n",
       "      <td>명년 을묘(1255)에 산길이 이 사실을 원(元)나라 황제에게 알리니, 원나라에서 ...</td>\n",
       "      <td>0.0</td>\n",
       "    </tr>\n",
       "    <tr>\n",
       "      <th>2</th>\n",
       "      <td>태조</td>\n",
       "      <td>1</td>\n",
       "      <td>NaN</td>\n",
       "      <td>NaN</td>\n",
       "      <td>총서</td>\n",
       "      <td>3.0</td>\n",
       "      <td>○斡東東南三十餘里, 有海島曰者考羅, 北連於陸。 穆祖築石城, 以放牛馬。</td>\n",
       "      <td>알동의 동남쪽 30여 리에 해도(海島)가 있는데, 자고라(者考羅)라고 한다. 북쪽으...</td>\n",
       "      <td>0.0</td>\n",
       "    </tr>\n",
       "    <tr>\n",
       "      <th>3</th>\n",
       "      <td>태조</td>\n",
       "      <td>1</td>\n",
       "      <td>NaN</td>\n",
       "      <td>NaN</td>\n",
       "      <td>총서</td>\n",
       "      <td>4.0</td>\n",
       "      <td>○憲宗八年, 受散吉令旨, 管領李春、文大純、趙奧、魯哥兒、卓靑、尙哉、光奕、張哥等八介百戶...</td>\n",
       "      <td>〈원나라〉 헌종(憲宗) 8년(1258)에 산길(散吉)의 영지(令旨)를 받아, 이춘(...</td>\n",
       "      <td>0.0</td>\n",
       "    </tr>\n",
       "    <tr>\n",
       "      <th>4</th>\n",
       "      <td>태조</td>\n",
       "      <td>1</td>\n",
       "      <td>NaN</td>\n",
       "      <td>NaN</td>\n",
       "      <td>총서</td>\n",
       "      <td>5.0</td>\n",
       "      <td>○世祖皇帝 中統二年辛酉六月, 尙書省給降本所行使銅印。</td>\n",
       "      <td>세조 황제(世祖皇帝) 중통(中統) 2년(1261) 신유 6월에 상서성(尙書省)에서 ...</td>\n",
       "      <td>0.0</td>\n",
       "    </tr>\n",
       "  </tbody>\n",
       "</table>\n",
       "</div>"
      ],
      "text/plain": [
       "  king  king_order  year  relative_year month  entry_order  \\\n",
       "0   태조           1   NaN            NaN    총서          1.0   \n",
       "1   태조           1   NaN            NaN    총서          2.0   \n",
       "2   태조           1   NaN            NaN    총서          3.0   \n",
       "3   태조           1   NaN            NaN    총서          4.0   \n",
       "4   태조           1   NaN            NaN    총서          5.0   \n",
       "\n",
       "                                       original_text  \\\n",
       "0  太祖康獻至仁啓運聖文神武大王, 姓李氏, 諱旦, 字君晋, 古諱成桂, 號松軒, 全州大姓也...   \n",
       "1  ○明年乙卯, 散吉聞于元帝, 元爲立斡東千戶所, 給降金牌, 爲南京等處五千戶所, 首千戶、...   \n",
       "2             ○斡東東南三十餘里, 有海島曰者考羅, 北連於陸。 穆祖築石城, 以放牛馬。   \n",
       "3  ○憲宗八年, 受散吉令旨, 管領李春、文大純、趙奧、魯哥兒、卓靑、尙哉、光奕、張哥等八介百戶...   \n",
       "4                       ○世祖皇帝 中統二年辛酉六月, 尙書省給降本所行使銅印。   \n",
       "\n",
       "                                     translated_text  entry_order_grouped  \n",
       "0  태조 강헌 지인 계운 성문 신무 대왕(太祖康獻至仁啓運聖文神武大王)의 성은 이씨(李氏...                  0.0  \n",
       "1  명년 을묘(1255)에 산길이 이 사실을 원(元)나라 황제에게 알리니, 원나라에서 ...                  0.0  \n",
       "2  알동의 동남쪽 30여 리에 해도(海島)가 있는데, 자고라(者考羅)라고 한다. 북쪽으...                  0.0  \n",
       "3  〈원나라〉 헌종(憲宗) 8년(1258)에 산길(散吉)의 영지(令旨)를 받아, 이춘(...                  0.0  \n",
       "4  세조 황제(世祖皇帝) 중통(中統) 2년(1261) 신유 6월에 상서성(尙書省)에서 ...                  0.0  "
      ]
     },
     "execution_count": 22,
     "metadata": {},
     "output_type": "execute_result"
    }
   ],
   "source": [
    "group_factor = 7\n",
    "df1['entry_order_grouped'] = df1['entry_order'] // group_factor\n",
    "df1.head()"
   ]
  },
  {
   "cell_type": "code",
   "execution_count": 23,
   "id": "552c2e7d",
   "metadata": {},
   "outputs": [
    {
     "data": {
      "text/plain": [
       "array([ 0.,  1.,  2.,  3.,  4.,  5.,  6.,  7.,  8.,  9., 10., 11., 12.,\n",
       "       13., 14., 15., 16., 17., 18., 19., nan, 20., 21., 22., 23., 24.,\n",
       "       25., 26., 27., 28., 29., 30., 31., 32., 33., 34., 35., 36., 37.,\n",
       "       38., 39., 40., 41., 42., 43., 44., 45., 46., 47., 48., 49., 50.,\n",
       "       51., 52., 53., 54., 55., 56., 57., 58., 59.])"
      ]
     },
     "execution_count": 23,
     "metadata": {},
     "output_type": "execute_result"
    }
   ],
   "source": [
    "df1['entry_order_grouped'].unique()"
   ]
  },
  {
   "cell_type": "code",
   "execution_count": 24,
   "id": "8ff35a06",
   "metadata": {},
   "outputs": [
    {
     "data": {
      "text/html": [
       "<div>\n",
       "<style scoped>\n",
       "    .dataframe tbody tr th:only-of-type {\n",
       "        vertical-align: middle;\n",
       "    }\n",
       "\n",
       "    .dataframe tbody tr th {\n",
       "        vertical-align: top;\n",
       "    }\n",
       "\n",
       "    .dataframe thead th {\n",
       "        text-align: right;\n",
       "    }\n",
       "</style>\n",
       "<table border=\"1\" class=\"dataframe\">\n",
       "  <thead>\n",
       "    <tr style=\"text-align: right;\">\n",
       "      <th></th>\n",
       "      <th>king</th>\n",
       "      <th>king_order</th>\n",
       "      <th>year</th>\n",
       "      <th>relative_year</th>\n",
       "      <th>month</th>\n",
       "      <th>entry_order</th>\n",
       "      <th>original_text</th>\n",
       "      <th>translated_text</th>\n",
       "      <th>entry_order_grouped</th>\n",
       "    </tr>\n",
       "  </thead>\n",
       "  <tbody>\n",
       "    <tr>\n",
       "      <th>0</th>\n",
       "      <td>태조</td>\n",
       "      <td>1</td>\n",
       "      <td>NaN</td>\n",
       "      <td>NaN</td>\n",
       "      <td>총서</td>\n",
       "      <td>1.0</td>\n",
       "      <td>太祖康獻至仁啓運聖文神武大王, 姓李氏, 諱旦, 字君晋, 古諱成桂, 號松軒, 全州大姓也...</td>\n",
       "      <td>태조 강헌 지인 계운 성문 신무 대왕(太祖康獻至仁啓運聖文神武大王)의 성은 이씨(李氏...</td>\n",
       "      <td>0.0</td>\n",
       "    </tr>\n",
       "    <tr>\n",
       "      <th>1</th>\n",
       "      <td>태조</td>\n",
       "      <td>1</td>\n",
       "      <td>NaN</td>\n",
       "      <td>NaN</td>\n",
       "      <td>총서</td>\n",
       "      <td>2.0</td>\n",
       "      <td>○明年乙卯, 散吉聞于元帝, 元爲立斡東千戶所, 給降金牌, 爲南京等處五千戶所, 首千戶、...</td>\n",
       "      <td>명년 을묘(1255)에 산길이 이 사실을 원(元)나라 황제에게 알리니, 원나라에서 ...</td>\n",
       "      <td>0.0</td>\n",
       "    </tr>\n",
       "    <tr>\n",
       "      <th>2</th>\n",
       "      <td>태조</td>\n",
       "      <td>1</td>\n",
       "      <td>NaN</td>\n",
       "      <td>NaN</td>\n",
       "      <td>총서</td>\n",
       "      <td>3.0</td>\n",
       "      <td>○斡東東南三十餘里, 有海島曰者考羅, 北連於陸。 穆祖築石城, 以放牛馬。</td>\n",
       "      <td>알동의 동남쪽 30여 리에 해도(海島)가 있는데, 자고라(者考羅)라고 한다. 북쪽으...</td>\n",
       "      <td>0.0</td>\n",
       "    </tr>\n",
       "    <tr>\n",
       "      <th>3</th>\n",
       "      <td>태조</td>\n",
       "      <td>1</td>\n",
       "      <td>NaN</td>\n",
       "      <td>NaN</td>\n",
       "      <td>총서</td>\n",
       "      <td>4.0</td>\n",
       "      <td>○憲宗八年, 受散吉令旨, 管領李春、文大純、趙奧、魯哥兒、卓靑、尙哉、光奕、張哥等八介百戶...</td>\n",
       "      <td>〈원나라〉 헌종(憲宗) 8년(1258)에 산길(散吉)의 영지(令旨)를 받아, 이춘(...</td>\n",
       "      <td>0.0</td>\n",
       "    </tr>\n",
       "    <tr>\n",
       "      <th>4</th>\n",
       "      <td>태조</td>\n",
       "      <td>1</td>\n",
       "      <td>NaN</td>\n",
       "      <td>NaN</td>\n",
       "      <td>총서</td>\n",
       "      <td>5.0</td>\n",
       "      <td>○世祖皇帝 中統二年辛酉六月, 尙書省給降本所行使銅印。</td>\n",
       "      <td>세조 황제(世祖皇帝) 중통(中統) 2년(1261) 신유 6월에 상서성(尙書省)에서 ...</td>\n",
       "      <td>0.0</td>\n",
       "    </tr>\n",
       "  </tbody>\n",
       "</table>\n",
       "</div>"
      ],
      "text/plain": [
       "  king  king_order  year  relative_year month  entry_order  \\\n",
       "0   태조           1   NaN            NaN    총서          1.0   \n",
       "1   태조           1   NaN            NaN    총서          2.0   \n",
       "2   태조           1   NaN            NaN    총서          3.0   \n",
       "3   태조           1   NaN            NaN    총서          4.0   \n",
       "4   태조           1   NaN            NaN    총서          5.0   \n",
       "\n",
       "                                       original_text  \\\n",
       "0  太祖康獻至仁啓運聖文神武大王, 姓李氏, 諱旦, 字君晋, 古諱成桂, 號松軒, 全州大姓也...   \n",
       "1  ○明年乙卯, 散吉聞于元帝, 元爲立斡東千戶所, 給降金牌, 爲南京等處五千戶所, 首千戶、...   \n",
       "2             ○斡東東南三十餘里, 有海島曰者考羅, 北連於陸。 穆祖築石城, 以放牛馬。   \n",
       "3  ○憲宗八年, 受散吉令旨, 管領李春、文大純、趙奧、魯哥兒、卓靑、尙哉、光奕、張哥等八介百戶...   \n",
       "4                       ○世祖皇帝 中統二年辛酉六月, 尙書省給降本所行使銅印。   \n",
       "\n",
       "                                     translated_text  entry_order_grouped  \n",
       "0  태조 강헌 지인 계운 성문 신무 대왕(太祖康獻至仁啓運聖文神武大王)의 성은 이씨(李氏...                  0.0  \n",
       "1  명년 을묘(1255)에 산길이 이 사실을 원(元)나라 황제에게 알리니, 원나라에서 ...                  0.0  \n",
       "2  알동의 동남쪽 30여 리에 해도(海島)가 있는데, 자고라(者考羅)라고 한다. 북쪽으...                  0.0  \n",
       "3  〈원나라〉 헌종(憲宗) 8년(1258)에 산길(散吉)의 영지(令旨)를 받아, 이춘(...                  0.0  \n",
       "4  세조 황제(世祖皇帝) 중통(中統) 2년(1261) 신유 6월에 상서성(尙書省)에서 ...                  0.0  "
      ]
     },
     "execution_count": 24,
     "metadata": {},
     "output_type": "execute_result"
    }
   ],
   "source": [
    "df1['entry_order_grouped'] = df1['entry_order_grouped'].fillna(-1)\n",
    "df1.head()"
   ]
  },
  {
   "cell_type": "code",
   "execution_count": 25,
   "id": "9f161862",
   "metadata": {},
   "outputs": [
    {
     "data": {
      "text/html": [
       "<div>\n",
       "<style scoped>\n",
       "    .dataframe tbody tr th:only-of-type {\n",
       "        vertical-align: middle;\n",
       "    }\n",
       "\n",
       "    .dataframe tbody tr th {\n",
       "        vertical-align: top;\n",
       "    }\n",
       "\n",
       "    .dataframe thead th {\n",
       "        text-align: right;\n",
       "    }\n",
       "</style>\n",
       "<table border=\"1\" class=\"dataframe\">\n",
       "  <thead>\n",
       "    <tr style=\"text-align: right;\">\n",
       "      <th></th>\n",
       "      <th>king</th>\n",
       "      <th>year</th>\n",
       "      <th>month</th>\n",
       "      <th>entry_order_grouped</th>\n",
       "      <th>original_text</th>\n",
       "      <th>translated_text</th>\n",
       "    </tr>\n",
       "  </thead>\n",
       "  <tbody>\n",
       "    <tr>\n",
       "      <th>0</th>\n",
       "      <td>경종</td>\n",
       "      <td>1720.0</td>\n",
       "      <td>10월</td>\n",
       "      <td>0.0</td>\n",
       "      <td>○朔甲午/夜電。 ○以兪拓基爲吏曹佐郞。 ○行都堂錄, 選李箕鎭、申晳、申昉、金鎭商、李重協...</td>\n",
       "      <td>밤에 번개가 쳤다. 유척기(兪拓基)를 이조 좌랑(吏曹佐郞)으로 삼았다. (도당록(都...</td>\n",
       "    </tr>\n",
       "    <tr>\n",
       "      <th>1</th>\n",
       "      <td>경종</td>\n",
       "      <td>1720.0</td>\n",
       "      <td>10월</td>\n",
       "      <td>1.0</td>\n",
       "      <td>○承旨柳重茂、李正臣等, 以雷變陳戒, 略曰:\\n近日朝廷之上, 黨議橫流, 用舍之際, 偏...</td>\n",
       "      <td>승지(承旨) 유중무(柳重茂)·이정신(李正臣) 등이 천둥의 변괴 때문에 진계(陳戒)하...</td>\n",
       "    </tr>\n",
       "    <tr>\n",
       "      <th>2</th>\n",
       "      <td>경종</td>\n",
       "      <td>1720.0</td>\n",
       "      <td>10월</td>\n",
       "      <td>2.0</td>\n",
       "      <td>○癸卯/副校理申昉, 箚斥趙最壽。 略曰:\\n泮儒被竄, 旋卽反汗, 凡在瞻聆, 孰不仰殿下...</td>\n",
       "      <td>부교리(副校理) 신방(申昉)이 차자를 올려 조최수(趙最壽)를 배척하였는데, 대략 이...</td>\n",
       "    </tr>\n",
       "    <tr>\n",
       "      <th>3</th>\n",
       "      <td>경종</td>\n",
       "      <td>1720.0</td>\n",
       "      <td>10월</td>\n",
       "      <td>3.0</td>\n",
       "      <td>○壬子/上親行啓殯奠、啓攅宮祭、祖奠。 ○癸丑/大行大王發引。 上陪至慕華館, 哭辭還, 御...</td>\n",
       "      <td>임금이 몸소 계빈전(啓殯奠)과 계찬 궁제(啓攢宮祭)와 조전(祖奠)을 거행하였다. 대...</td>\n",
       "    </tr>\n",
       "    <tr>\n",
       "      <th>4</th>\n",
       "      <td>경종</td>\n",
       "      <td>1720.0</td>\n",
       "      <td>10월</td>\n",
       "      <td>4.0</td>\n",
       "      <td>○右議政趙泰耉上疏, 申懇還納命召, 上遣承旨敦諭。 ○庚申/以趙尙絅爲司諫, 金龍慶爲正言...</td>\n",
       "      <td>우의정(右議政) 조태구(趙泰耉)가 소를 올려 명소(命召)를 도로 거둘 것을 거듭 간...</td>\n",
       "    </tr>\n",
       "  </tbody>\n",
       "</table>\n",
       "</div>"
      ],
      "text/plain": [
       "  king    year month  entry_order_grouped  \\\n",
       "0   경종  1720.0   10월                  0.0   \n",
       "1   경종  1720.0   10월                  1.0   \n",
       "2   경종  1720.0   10월                  2.0   \n",
       "3   경종  1720.0   10월                  3.0   \n",
       "4   경종  1720.0   10월                  4.0   \n",
       "\n",
       "                                       original_text  \\\n",
       "0  ○朔甲午/夜電。 ○以兪拓基爲吏曹佐郞。 ○行都堂錄, 選李箕鎭、申晳、申昉、金鎭商、李重協...   \n",
       "1  ○承旨柳重茂、李正臣等, 以雷變陳戒, 略曰:\\n近日朝廷之上, 黨議橫流, 用舍之際, 偏...   \n",
       "2  ○癸卯/副校理申昉, 箚斥趙最壽。 略曰:\\n泮儒被竄, 旋卽反汗, 凡在瞻聆, 孰不仰殿下...   \n",
       "3  ○壬子/上親行啓殯奠、啓攅宮祭、祖奠。 ○癸丑/大行大王發引。 上陪至慕華館, 哭辭還, 御...   \n",
       "4  ○右議政趙泰耉上疏, 申懇還納命召, 上遣承旨敦諭。 ○庚申/以趙尙絅爲司諫, 金龍慶爲正言...   \n",
       "\n",
       "                                     translated_text  \n",
       "0  밤에 번개가 쳤다. 유척기(兪拓基)를 이조 좌랑(吏曹佐郞)으로 삼았다. (도당록(都...  \n",
       "1  승지(承旨) 유중무(柳重茂)·이정신(李正臣) 등이 천둥의 변괴 때문에 진계(陳戒)하...  \n",
       "2  부교리(副校理) 신방(申昉)이 차자를 올려 조최수(趙最壽)를 배척하였는데, 대략 이...  \n",
       "3  임금이 몸소 계빈전(啓殯奠)과 계찬 궁제(啓攢宮祭)와 조전(祖奠)을 거행하였다. 대...  \n",
       "4  우의정(右議政) 조태구(趙泰耉)가 소를 올려 명소(命召)를 도로 거둘 것을 거듭 간...  "
      ]
     },
     "execution_count": 25,
     "metadata": {},
     "output_type": "execute_result"
    }
   ],
   "source": [
    "long_form_df = df1.groupby(['king', 'year', 'month', 'entry_order_grouped'])[['original_text', 'translated_text']].aggregate({\n",
    "    'original_text': lambda lt: ' '.join(lt),\n",
    "    'translated_text': lambda lt: ' '.join(lt),\n",
    "}).reset_index(drop=False)\n",
    "long_form_df.head()"
   ]
  },
  {
   "cell_type": "code",
   "execution_count": 26,
   "id": "ddb8c22b",
   "metadata": {},
   "outputs": [
    {
     "data": {
      "text/plain": [
       "count    46848.000000\n",
       "mean      1168.311475\n",
       "std        953.869328\n",
       "min          3.000000\n",
       "25%        509.000000\n",
       "50%        937.000000\n",
       "75%       1553.000000\n",
       "max      24977.000000\n",
       "Name: original_text, dtype: float64"
      ]
     },
     "execution_count": 26,
     "metadata": {},
     "output_type": "execute_result"
    }
   ],
   "source": [
    "long_form_df['original_text'].str.len().describe()"
   ]
  },
  {
   "cell_type": "code",
   "execution_count": 27,
   "id": "84d67bd1",
   "metadata": {},
   "outputs": [
    {
     "data": {
      "text/plain": [
       "<Axes: >"
      ]
     },
     "execution_count": 27,
     "metadata": {},
     "output_type": "execute_result"
    },
    {
     "data": {
      "image/png": "[encoded data removed]",
      "text/plain": [
       "<Figure size 640x480 with 1 Axes>"
      ]
     },
     "metadata": {},
     "output_type": "display_data"
    }
   ],
   "source": [
    "long_form_df['original_text'].str.len().hist(bins=100)"
   ]
  },
  {
   "cell_type": "code",
   "execution_count": 28,
   "id": "45262eb7",
   "metadata": {},
   "outputs": [
    {
     "data": {
      "text/plain": [
       "count    46848.000000\n",
       "mean      2844.626964\n",
       "std       2220.572158\n",
       "min          8.000000\n",
       "25%       1208.750000\n",
       "50%       2255.000000\n",
       "75%       3894.000000\n",
       "max      21214.000000\n",
       "Name: translated_text, dtype: float64"
      ]
     },
     "execution_count": 28,
     "metadata": {},
     "output_type": "execute_result"
    }
   ],
   "source": [
    "long_form_df['translated_text'].str.len().describe()"
   ]
  },
  {
   "cell_type": "code",
   "execution_count": 29,
   "id": "1d29a382",
   "metadata": {},
   "outputs": [
    {
     "data": {
      "text/plain": [
       "<Axes: >"
      ]
     },
     "execution_count": 29,
     "metadata": {},
     "output_type": "execute_result"
    },
    {
     "data": {
      "image/png": "[encoded data removed]",
      "text/plain": [
       "<Figure size 640x480 with 1 Axes>"
      ]
     },
     "metadata": {},
     "output_type": "display_data"
    }
   ],
   "source": [
    "long_form_df['translated_text'].str.len().hist(bins=100)"
   ]
  },
  {
   "cell_type": "code",
   "execution_count": 30,
   "id": "7e47ad0c",
   "metadata": {},
   "outputs": [
    {
     "data": {
      "text/plain": [
       "46848"
      ]
     },
     "execution_count": 30,
     "metadata": {},
     "output_type": "execute_result"
    }
   ],
   "source": [
    "len(long_form_df)"
   ]
  },
  {
   "cell_type": "code",
   "execution_count": 31,
   "id": "6dbfa669",
   "metadata": {},
   "outputs": [
    {
     "name": "stdout",
     "output_type": "stream",
     "text": [
      "Removed Fraction: 0.15292008196721307\n"
     ]
    },
    {
     "data": {
      "text/html": [
       "<div>\n",
       "<style scoped>\n",
       "    .dataframe tbody tr th:only-of-type {\n",
       "        vertical-align: middle;\n",
       "    }\n",
       "\n",
       "    .dataframe tbody tr th {\n",
       "        vertical-align: top;\n",
       "    }\n",
       "\n",
       "    .dataframe thead th {\n",
       "        text-align: right;\n",
       "    }\n",
       "</style>\n",
       "<table border=\"1\" class=\"dataframe\">\n",
       "  <thead>\n",
       "    <tr style=\"text-align: right;\">\n",
       "      <th></th>\n",
       "      <th>king</th>\n",
       "      <th>year</th>\n",
       "      <th>month</th>\n",
       "      <th>entry_order_grouped</th>\n",
       "      <th>original_text</th>\n",
       "      <th>translated_text</th>\n",
       "    </tr>\n",
       "  </thead>\n",
       "  <tbody>\n",
       "    <tr>\n",
       "      <th>0</th>\n",
       "      <td>경종</td>\n",
       "      <td>1720.0</td>\n",
       "      <td>10월</td>\n",
       "      <td>0.0</td>\n",
       "      <td>○朔甲午/夜電。 ○以兪拓基爲吏曹佐郞。 ○行都堂錄, 選李箕鎭、申晳、申昉、金鎭商、李重協...</td>\n",
       "      <td>밤에 번개가 쳤다. 유척기(兪拓基)를 이조 좌랑(吏曹佐郞)으로 삼았다. (도당록(都...</td>\n",
       "    </tr>\n",
       "    <tr>\n",
       "      <th>1</th>\n",
       "      <td>경종</td>\n",
       "      <td>1720.0</td>\n",
       "      <td>10월</td>\n",
       "      <td>1.0</td>\n",
       "      <td>○承旨柳重茂、李正臣等, 以雷變陳戒, 略曰:\\n近日朝廷之上, 黨議橫流, 用舍之際, 偏...</td>\n",
       "      <td>승지(承旨) 유중무(柳重茂)·이정신(李正臣) 등이 천둥의 변괴 때문에 진계(陳戒)하...</td>\n",
       "    </tr>\n",
       "    <tr>\n",
       "      <th>2</th>\n",
       "      <td>경종</td>\n",
       "      <td>1720.0</td>\n",
       "      <td>10월</td>\n",
       "      <td>2.0</td>\n",
       "      <td>○癸卯/副校理申昉, 箚斥趙最壽。 略曰:\\n泮儒被竄, 旋卽反汗, 凡在瞻聆, 孰不仰殿下...</td>\n",
       "      <td>부교리(副校理) 신방(申昉)이 차자를 올려 조최수(趙最壽)를 배척하였는데, 대략 이...</td>\n",
       "    </tr>\n",
       "    <tr>\n",
       "      <th>3</th>\n",
       "      <td>경종</td>\n",
       "      <td>1720.0</td>\n",
       "      <td>10월</td>\n",
       "      <td>3.0</td>\n",
       "      <td>○壬子/上親行啓殯奠、啓攅宮祭、祖奠。 ○癸丑/大行大王發引。 上陪至慕華館, 哭辭還, 御...</td>\n",
       "      <td>임금이 몸소 계빈전(啓殯奠)과 계찬 궁제(啓攢宮祭)와 조전(祖奠)을 거행하였다. 대...</td>\n",
       "    </tr>\n",
       "    <tr>\n",
       "      <th>4</th>\n",
       "      <td>경종</td>\n",
       "      <td>1720.0</td>\n",
       "      <td>10월</td>\n",
       "      <td>4.0</td>\n",
       "      <td>○右議政趙泰耉上疏, 申懇還納命召, 上遣承旨敦諭。 ○庚申/以趙尙絅爲司諫, 金龍慶爲正言...</td>\n",
       "      <td>우의정(右議政) 조태구(趙泰耉)가 소를 올려 명소(命召)를 도로 거둘 것을 거듭 간...</td>\n",
       "    </tr>\n",
       "    <tr>\n",
       "      <th>...</th>\n",
       "      <td>...</td>\n",
       "      <td>...</td>\n",
       "      <td>...</td>\n",
       "      <td>...</td>\n",
       "      <td>...</td>\n",
       "      <td>...</td>\n",
       "    </tr>\n",
       "    <tr>\n",
       "      <th>46843</th>\n",
       "      <td>효종</td>\n",
       "      <td>1659.0</td>\n",
       "      <td>윤3월</td>\n",
       "      <td>6.0</td>\n",
       "      <td>○辛巳/太白晝見。 ○白翎島饑移粟賑之。 ○兵曹判書宋浚吉以病乞免, 許之。 ○壬午/太白晝...</td>\n",
       "      <td>태백성이 낮에 나타났다. 백령도(白翎島)에 기근이 들었으므로 곡식을 이송하여 진구하...</td>\n",
       "    </tr>\n",
       "    <tr>\n",
       "      <th>46844</th>\n",
       "      <td>효종</td>\n",
       "      <td>1659.0</td>\n",
       "      <td>윤3월</td>\n",
       "      <td>7.0</td>\n",
       "      <td>○癸未/兵曹判書洪命夏上疏辭職, 答曰: \"噫! 今日之國事, 將若之何? 大臣不安, 鼎席...</td>\n",
       "      <td>병조 판서 홍명하가 상소하여 사직하니, 답하였다.\\n\"아, 오늘날 국사를 장차 어떻...</td>\n",
       "    </tr>\n",
       "    <tr>\n",
       "      <th>46845</th>\n",
       "      <td>효종</td>\n",
       "      <td>1659.0</td>\n",
       "      <td>윤3월</td>\n",
       "      <td>8.0</td>\n",
       "      <td>○憲府啓曰: \"全南監司徐必遠啓請: ‘刑曹罪囚趙義智, 從其所訴, 納米贖刑, 以爲賑救之...</td>\n",
       "      <td>헌부가 아뢰기를,\\n\"전남 감사 서필원(徐必遠)이 계청하기를 ‘형조의 죄수 조의지(...</td>\n",
       "    </tr>\n",
       "    <tr>\n",
       "      <th>46846</th>\n",
       "      <td>효종</td>\n",
       "      <td>1659.0</td>\n",
       "      <td>윤3월</td>\n",
       "      <td>9.0</td>\n",
       "      <td>○命常平廳, 抄出京中鰥寡孤獨, 賜粟以賑之。 ○上召對玉堂講官, 講《心經》。 ○庚寅/上...</td>\n",
       "      <td>상평청에 명하여, 서울에 있는 홀아비·과부·고아·자식없는 노인을 초출(抄出)하여 곡...</td>\n",
       "    </tr>\n",
       "    <tr>\n",
       "      <th>46847</th>\n",
       "      <td>효종</td>\n",
       "      <td>1659.0</td>\n",
       "      <td>윤3월</td>\n",
       "      <td>10.0</td>\n",
       "      <td>○南原營將鄭後諶辭朝, 面諭以遣之。 ○壬辰/雨黃屑, 色如松花。</td>\n",
       "      <td>남원 영장(南原營將) 정후심(鄭後諶)이 하직 인사를 드리니, 면유(面諭)하여 보냈다...</td>\n",
       "    </tr>\n",
       "  </tbody>\n",
       "</table>\n",
       "<p>39684 rows × 6 columns</p>\n",
       "</div>"
      ],
      "text/plain": [
       "      king    year month  entry_order_grouped  \\\n",
       "0       경종  1720.0   10월                  0.0   \n",
       "1       경종  1720.0   10월                  1.0   \n",
       "2       경종  1720.0   10월                  2.0   \n",
       "3       경종  1720.0   10월                  3.0   \n",
       "4       경종  1720.0   10월                  4.0   \n",
       "...    ...     ...   ...                  ...   \n",
       "46843   효종  1659.0   윤3월                  6.0   \n",
       "46844   효종  1659.0   윤3월                  7.0   \n",
       "46845   효종  1659.0   윤3월                  8.0   \n",
       "46846   효종  1659.0   윤3월                  9.0   \n",
       "46847   효종  1659.0   윤3월                 10.0   \n",
       "\n",
       "                                           original_text  \\\n",
       "0      ○朔甲午/夜電。 ○以兪拓基爲吏曹佐郞。 ○行都堂錄, 選李箕鎭、申晳、申昉、金鎭商、李重協...   \n",
       "1      ○承旨柳重茂、李正臣等, 以雷變陳戒, 略曰:\\n近日朝廷之上, 黨議橫流, 用舍之際, 偏...   \n",
       "2      ○癸卯/副校理申昉, 箚斥趙最壽。 略曰:\\n泮儒被竄, 旋卽反汗, 凡在瞻聆, 孰不仰殿下...   \n",
       "3      ○壬子/上親行啓殯奠、啓攅宮祭、祖奠。 ○癸丑/大行大王發引。 上陪至慕華館, 哭辭還, 御...   \n",
       "4      ○右議政趙泰耉上疏, 申懇還納命召, 上遣承旨敦諭。 ○庚申/以趙尙絅爲司諫, 金龍慶爲正言...   \n",
       "...                                                  ...   \n",
       "46843  ○辛巳/太白晝見。 ○白翎島饑移粟賑之。 ○兵曹判書宋浚吉以病乞免, 許之。 ○壬午/太白晝...   \n",
       "46844  ○癸未/兵曹判書洪命夏上疏辭職, 答曰: \"噫! 今日之國事, 將若之何? 大臣不安, 鼎席...   \n",
       "46845  ○憲府啓曰: \"全南監司徐必遠啓請: ‘刑曹罪囚趙義智, 從其所訴, 納米贖刑, 以爲賑救之...   \n",
       "46846  ○命常平廳, 抄出京中鰥寡孤獨, 賜粟以賑之。 ○上召對玉堂講官, 講《心經》。 ○庚寅/上...   \n",
       "46847                  ○南原營將鄭後諶辭朝, 面諭以遣之。 ○壬辰/雨黃屑, 色如松花。   \n",
       "\n",
       "                                         translated_text  \n",
       "0      밤에 번개가 쳤다. 유척기(兪拓基)를 이조 좌랑(吏曹佐郞)으로 삼았다. (도당록(都...  \n",
       "1      승지(承旨) 유중무(柳重茂)·이정신(李正臣) 등이 천둥의 변괴 때문에 진계(陳戒)하...  \n",
       "2      부교리(副校理) 신방(申昉)이 차자를 올려 조최수(趙最壽)를 배척하였는데, 대략 이...  \n",
       "3      임금이 몸소 계빈전(啓殯奠)과 계찬 궁제(啓攢宮祭)와 조전(祖奠)을 거행하였다. 대...  \n",
       "4      우의정(右議政) 조태구(趙泰耉)가 소를 올려 명소(命召)를 도로 거둘 것을 거듭 간...  \n",
       "...                                                  ...  \n",
       "46843  태백성이 낮에 나타났다. 백령도(白翎島)에 기근이 들었으므로 곡식을 이송하여 진구하...  \n",
       "46844  병조 판서 홍명하가 상소하여 사직하니, 답하였다.\\n\"아, 오늘날 국사를 장차 어떻...  \n",
       "46845  헌부가 아뢰기를,\\n\"전남 감사 서필원(徐必遠)이 계청하기를 ‘형조의 죄수 조의지(...  \n",
       "46846  상평청에 명하여, 서울에 있는 홀아비·과부·고아·자식없는 노인을 초출(抄出)하여 곡...  \n",
       "46847  남원 영장(南原營將) 정후심(鄭後諶)이 하직 인사를 드리니, 면유(面諭)하여 보냈다...  \n",
       "\n",
       "[39684 rows x 6 columns]"
      ]
     },
     "execution_count": 31,
     "metadata": {},
     "output_type": "execute_result"
    }
   ],
   "source": [
    "original_text_max_length = 2_000\n",
    "translated_text_max_length = 8_000\n",
    "droping_query = ((long_form_df['original_text'].str.len() <= original_text_max_length)\n",
    "                 & (long_form_df['translated_text'].str.len() <= translated_text_max_length))\n",
    "long_form_df = long_form_df[droping_query]\n",
    "\n",
    "print(f'Removed Fraction: {1 - droping_query.mean()}')\n",
    "\n",
    "long_form_df"
   ]
  },
  {
   "cell_type": "code",
   "execution_count": 32,
   "id": "cd205e3c",
   "metadata": {},
   "outputs": [
    {
     "data": {
      "text/plain": [
       "<Axes: >"
      ]
     },
     "execution_count": 32,
     "metadata": {},
     "output_type": "execute_result"
    },
    {
     "data": {
      "image/png": "[encoded data removed]",
      "text/plain": [
       "<Figure size 640x480 with 1 Axes>"
      ]
     },
     "metadata": {},
     "output_type": "display_data"
    }
   ],
   "source": [
    "long_form_df['original_text'].str.len().hist(bins=40)"
   ]
  },
  {
   "cell_type": "code",
   "execution_count": 33,
   "id": "bd917ee0",
   "metadata": {},
   "outputs": [
    {
     "data": {
      "text/plain": [
       "<Axes: >"
      ]
     },
     "execution_count": 33,
     "metadata": {},
     "output_type": "execute_result"
    },
    {
     "data": {
      "image/png": "[encoded data removed]",
      "text/plain": [
       "<Figure size 640x480 with 1 Axes>"
      ]
     },
     "metadata": {},
     "output_type": "display_data"
    }
   ],
   "source": [
    "long_form_df['translated_text'].str.len().hist(bins=40)"
   ]
  },
  {
   "cell_type": "code",
   "execution_count": null,
   "id": "2a914dc5",
   "metadata": {},
   "outputs": [],
   "source": [
    "train_df, test_df = train_test_split(long_form_df, test_size=0.1, random_state=42, shuffle=True)"
   ]
  },
  {
   "cell_type": "code",
   "execution_count": 35,
   "id": "22dadc88",
   "metadata": {},
   "outputs": [
    {
     "data": {
      "text/plain": [
       "(35715, 3969)"
      ]
     },
     "execution_count": 35,
     "metadata": {},
     "output_type": "execute_result"
    }
   ],
   "source": [
    "len(train_df), len(test_df)"
   ]
  },
  {
   "cell_type": "code",
   "execution_count": 36,
   "id": "10fcc1bf",
   "metadata": {},
   "outputs": [],
   "source": [
    "train_df.to_parquet('./data/train.parquet')"
   ]
  },
  {
   "cell_type": "code",
   "execution_count": 37,
   "id": "b6b489cb",
   "metadata": {},
   "outputs": [],
   "source": [
    "test_df.to_parquet('./data/test.parquet')"
   ]
  }
 ],
 "metadata": {
  "kernelspec": {
   "display_name": "Python 3",
   "language": "python",
   "name": "python3"
  },
  "language_info": {
   "codemirror_mode": {
    "name": "ipython",
    "version": 3
   },
   "file_extension": ".py",
   "mimetype": "text/x-python",
   "name": "python",
   "nbconvert_exporter": "python",
   "pygments_lexer": "ipython3",
   "version": "3.11.11"
  }
 },
 "nbformat": 4,
 "nbformat_minor": 5
}
