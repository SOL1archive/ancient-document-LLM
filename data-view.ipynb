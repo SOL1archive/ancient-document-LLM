{
 "cells": [
  {
   "cell_type": "code",
   "execution_count": 1,
   "id": "8456d2fb",
   "metadata": {},
   "outputs": [],
   "source": [
    "import numpy as np\n",
    "import pandas as pd\n",
    "\n",
    "from tqdm.auto import tqdm\n",
    "\n",
    "from sklearn.model_selection import train_test_split\n",
    "\n",
    "from transformers import AutoTokenizer"
   ]
  },
  {
   "cell_type": "code",
   "execution_count": 2,
   "id": "5ad145dd",
   "metadata": {},
   "outputs": [
    {
     "data": {
      "text/html": [
       "<div>\n",
       "<style scoped>\n",
       "    .dataframe tbody tr th:only-of-type {\n",
       "        vertical-align: middle;\n",
       "    }\n",
       "\n",
       "    .dataframe tbody tr th {\n",
       "        vertical-align: top;\n",
       "    }\n",
       "\n",
       "    .dataframe thead th {\n",
       "        text-align: right;\n",
       "    }\n",
       "</style>\n",
       "<table border=\"1\" class=\"dataframe\">\n",
       "  <thead>\n",
       "    <tr style=\"text-align: right;\">\n",
       "      <th></th>\n",
       "      <th>king</th>\n",
       "      <th>king_order</th>\n",
       "      <th>year</th>\n",
       "      <th>relative_year</th>\n",
       "      <th>month</th>\n",
       "      <th>entry_order</th>\n",
       "      <th>original_text</th>\n",
       "      <th>translated_text</th>\n",
       "    </tr>\n",
       "  </thead>\n",
       "  <tbody>\n",
       "    <tr>\n",
       "      <th>0</th>\n",
       "      <td>태조</td>\n",
       "      <td>1</td>\n",
       "      <td>NaN</td>\n",
       "      <td>NaN</td>\n",
       "      <td>총서</td>\n",
       "      <td>1.0</td>\n",
       "      <td>太祖康獻至仁啓運聖文神武大王, 姓李氏, 諱旦, 字君晋, 古諱成桂, 號松軒, 全州大姓也...</td>\n",
       "      <td>태조 강헌 지인 계운 성문 신무 대왕(太祖康獻至仁啓運聖文神武大王)의 성은 이씨(李氏...</td>\n",
       "    </tr>\n",
       "    <tr>\n",
       "      <th>1</th>\n",
       "      <td>태조</td>\n",
       "      <td>1</td>\n",
       "      <td>NaN</td>\n",
       "      <td>NaN</td>\n",
       "      <td>총서</td>\n",
       "      <td>2.0</td>\n",
       "      <td>○明年乙卯, 散吉聞于元帝, 元爲立斡東千戶所, 給降金牌, 爲南京等處五千戶所, 首千戶、...</td>\n",
       "      <td>명년 을묘(1255)에 산길이 이 사실을 원(元)나라 황제에게 알리니, 원나라에서 ...</td>\n",
       "    </tr>\n",
       "    <tr>\n",
       "      <th>2</th>\n",
       "      <td>태조</td>\n",
       "      <td>1</td>\n",
       "      <td>NaN</td>\n",
       "      <td>NaN</td>\n",
       "      <td>총서</td>\n",
       "      <td>3.0</td>\n",
       "      <td>○斡東東南三十餘里, 有海島曰者考羅, 北連於陸。 穆祖築石城, 以放牛馬。</td>\n",
       "      <td>알동의 동남쪽 30여 리에 해도(海島)가 있는데, 자고라(者考羅)라고 한다. 북쪽으...</td>\n",
       "    </tr>\n",
       "    <tr>\n",
       "      <th>3</th>\n",
       "      <td>태조</td>\n",
       "      <td>1</td>\n",
       "      <td>NaN</td>\n",
       "      <td>NaN</td>\n",
       "      <td>총서</td>\n",
       "      <td>4.0</td>\n",
       "      <td>○憲宗八年, 受散吉令旨, 管領李春、文大純、趙奧、魯哥兒、卓靑、尙哉、光奕、張哥等八介百戶...</td>\n",
       "      <td>〈원나라〉 헌종(憲宗) 8년(1258)에 산길(散吉)의 영지(令旨)를 받아, 이춘(...</td>\n",
       "    </tr>\n",
       "    <tr>\n",
       "      <th>4</th>\n",
       "      <td>태조</td>\n",
       "      <td>1</td>\n",
       "      <td>NaN</td>\n",
       "      <td>NaN</td>\n",
       "      <td>총서</td>\n",
       "      <td>5.0</td>\n",
       "      <td>○世祖皇帝 中統二年辛酉六月, 尙書省給降本所行使銅印。</td>\n",
       "      <td>세조 황제(世祖皇帝) 중통(中統) 2년(1261) 신유 6월에 상서성(尙書省)에서 ...</td>\n",
       "    </tr>\n",
       "  </tbody>\n",
       "</table>\n",
       "</div>"
      ],
      "text/plain": [
       "  king  king_order  year  relative_year month  entry_order  \\\n",
       "0   태조           1   NaN            NaN    총서          1.0   \n",
       "1   태조           1   NaN            NaN    총서          2.0   \n",
       "2   태조           1   NaN            NaN    총서          3.0   \n",
       "3   태조           1   NaN            NaN    총서          4.0   \n",
       "4   태조           1   NaN            NaN    총서          5.0   \n",
       "\n",
       "                                       original_text  \\\n",
       "0  太祖康獻至仁啓運聖文神武大王, 姓李氏, 諱旦, 字君晋, 古諱成桂, 號松軒, 全州大姓也...   \n",
       "1  ○明年乙卯, 散吉聞于元帝, 元爲立斡東千戶所, 給降金牌, 爲南京等處五千戶所, 首千戶、...   \n",
       "2             ○斡東東南三十餘里, 有海島曰者考羅, 北連於陸。 穆祖築石城, 以放牛馬。   \n",
       "3  ○憲宗八年, 受散吉令旨, 管領李春、文大純、趙奧、魯哥兒、卓靑、尙哉、光奕、張哥等八介百戶...   \n",
       "4                       ○世祖皇帝 中統二年辛酉六月, 尙書省給降本所行使銅印。   \n",
       "\n",
       "                                     translated_text  \n",
       "0  태조 강헌 지인 계운 성문 신무 대왕(太祖康獻至仁啓運聖文神武大王)의 성은 이씨(李氏...  \n",
       "1  명년 을묘(1255)에 산길이 이 사실을 원(元)나라 황제에게 알리니, 원나라에서 ...  \n",
       "2  알동의 동남쪽 30여 리에 해도(海島)가 있는데, 자고라(者考羅)라고 한다. 북쪽으...  \n",
       "3  〈원나라〉 헌종(憲宗) 8년(1258)에 산길(散吉)의 영지(令旨)를 받아, 이춘(...  \n",
       "4  세조 황제(世祖皇帝) 중통(中統) 2년(1261) 신유 6월에 상서성(尙書省)에서 ...  "
      ]
     },
     "execution_count": 2,
     "metadata": {},
     "output_type": "execute_result"
    }
   ],
   "source": [
    "df1 = pd.read_parquet('./data/sillok_finetune.parquet', engine='pyarrow')\n",
    "df1.head()"
   ]
  },
  {
   "cell_type": "code",
   "execution_count": 3,
   "id": "e68cf944",
   "metadata": {},
   "outputs": [
    {
     "data": {
      "text/plain": [
       "year\n",
       "1618.0    5235\n",
       "1612.0    4061\n",
       "1613.0    3720\n",
       "1616.0    3440\n",
       "1617.0    3260\n",
       "          ... \n",
       "1607.0      54\n",
       "1586.0      47\n",
       "1571.0      43\n",
       "1582.0      37\n",
       "1928.0       7\n",
       "Name: count, Length: 372, dtype: int64"
      ]
     },
     "execution_count": 3,
     "metadata": {},
     "output_type": "execute_result"
    }
   ],
   "source": [
    "df1['year'].value_counts()"
   ]
  },
  {
   "cell_type": "code",
   "execution_count": 4,
   "id": "3c8483e8",
   "metadata": {},
   "outputs": [
    {
     "name": "stderr",
     "output_type": "stream",
     "text": [
      "/var/folders/l4/xcb152_d5v51k4kx19t42f0w0000gn/T/ipykernel_68822/1582849484.py:1: RuntimeWarning: invalid value encountered in cast\n",
      "  df1['relative_year'].unique().astype(int)\n"
     ]
    },
    {
     "data": {
      "text/plain": [
       "array([   0,    1,    2,    3,    4,    5,    6,    7,    8,    9,   10,\n",
       "         11,   12,   13,   14,   15,   16,   17,   18, 1418,   19,   20,\n",
       "         21,   22,   23,   24,   25,   26,   27,   28,   29,   30,   31,\n",
       "         32, 1450, 1468, 1469,   33,   34,   35,   36,   37,   38,   39,\n",
       "       1545, 1567,   40,   41, 1608, 1649, 1659, 1674,   42,   43,   44,\n",
       "         45,   46, 1720, 1863, 1907])"
      ]
     },
     "execution_count": 4,
     "metadata": {},
     "output_type": "execute_result"
    }
   ],
   "source": [
    "df1['relative_year'].unique().astype(int)"
   ]
  },
  {
   "cell_type": "code",
   "execution_count": 5,
   "id": "e4905f11",
   "metadata": {},
   "outputs": [
    {
     "data": {
      "text/plain": [
       "array(['총서', '7월', '8월', '9월', '10월', '11월', '12월', '윤12월', '1월', '2월',\n",
       "       '3월', '4월', '5월', '6월', '윤9월', '윤5월', '윤3월', '윤11월', '윤7월', '윤4월',\n",
       "       '윤1월', '윤8월', '윤6월', '윤2월', '윤10월'], dtype=object)"
      ]
     },
     "execution_count": 5,
     "metadata": {},
     "output_type": "execute_result"
    }
   ],
   "source": [
    "df1['month'].unique()"
   ]
  },
  {
   "cell_type": "code",
   "execution_count": 6,
   "id": "f6e7810e",
   "metadata": {},
   "outputs": [
    {
     "data": {
      "text/plain": [
       "308554"
      ]
     },
     "execution_count": 6,
     "metadata": {},
     "output_type": "execute_result"
    }
   ],
   "source": [
    "len(df1)"
   ]
  },
  {
   "cell_type": "code",
   "execution_count": 7,
   "id": "6ac8bbc6",
   "metadata": {},
   "outputs": [
    {
     "data": {
      "text/plain": [
       "'○倭館火。 是月十六日夜, 倭館失火, 釜山僉使李延禎, 率土兵往救, 而風勢不順, 館宇又皆草蓋, 宴享大廳外, 一倂延燒, 倭船七隻及衣服器具, 蕩然無餘, 倭人赤身脫出。 上命本道, 以米二百石、木綿十同給之。 館倭受賜, 大喜過望, 稱以卽當報知島主, 申謝朝廷云。'"
      ]
     },
     "execution_count": 7,
     "metadata": {},
     "output_type": "execute_result"
    }
   ],
   "source": [
    "df1['original_text'].sample(1).iloc[0]"
   ]
  },
  {
   "cell_type": "code",
   "execution_count": 8,
   "id": "35f90192",
   "metadata": {},
   "outputs": [
    {
     "data": {
      "text/plain": [
       "count    308554.000000\n",
       "mean        215.600537\n",
       "std        1404.764642\n",
       "min           2.000000\n",
       "25%          22.000000\n",
       "50%          73.000000\n",
       "75%         200.000000\n",
       "max      361261.000000\n",
       "Name: original_text, dtype: float64"
      ]
     },
     "execution_count": 8,
     "metadata": {},
     "output_type": "execute_result"
    }
   ],
   "source": [
    "df1['original_text'].str.len().describe()"
   ]
  },
  {
   "cell_type": "code",
   "execution_count": 9,
   "id": "50389074",
   "metadata": {},
   "outputs": [
    {
     "data": {
      "text/plain": [
       "count     308554\n",
       "mean         516\n",
       "std         3006\n",
       "min            0\n",
       "25%           52\n",
       "50%          170\n",
       "75%          510\n",
       "max      1232042\n",
       "Name: translated_text, dtype: int64"
      ]
     },
     "execution_count": 9,
     "metadata": {},
     "output_type": "execute_result"
    }
   ],
   "source": [
    "df1['translated_text'].str.len().describe().astype(int)"
   ]
  },
  {
   "cell_type": "code",
   "execution_count": 10,
   "id": "c555c3be",
   "metadata": {},
   "outputs": [
    {
     "data": {
      "text/plain": [
       "0.0016625939057668998"
      ]
     },
     "execution_count": 10,
     "metadata": {},
     "output_type": "execute_result"
    }
   ],
   "source": [
    "(df1['original_text'].str.len() > 5000).mean()"
   ]
  },
  {
   "cell_type": "code",
   "execution_count": 11,
   "id": "a8a21f0e",
   "metadata": {},
   "outputs": [
    {
     "data": {
      "text/plain": [
       "0.11937618698833916"
      ]
     },
     "execution_count": 11,
     "metadata": {},
     "output_type": "execute_result"
    }
   ],
   "source": [
    "((df1['translated_text'].str.len() > 1000) & (df1['translated_text'].str.len() < 6000)).mean()"
   ]
  },
  {
   "cell_type": "markdown",
   "id": "f4398945",
   "metadata": {},
   "source": [
    "따라서 `translated_text`의 길이가 1000보다 높으면서,6000보다 작은 샘플들 중에서 70%, 1000보다 작은 샘플들에서 30%를 추출하여 test set을 구성함."
   ]
  },
  {
   "cell_type": "code",
   "execution_count": 12,
   "id": "5c4dc1aa",
   "metadata": {},
   "outputs": [
    {
     "data": {
      "text/plain": [
       "array([[1.        , 0.54443249],\n",
       "       [0.54443249, 1.        ]])"
      ]
     },
     "execution_count": 12,
     "metadata": {},
     "output_type": "execute_result"
    }
   ],
   "source": [
    "np.corrcoef(df1['original_text'].str.len(), df1['translated_text'].str.len())"
   ]
  },
  {
   "cell_type": "code",
   "execution_count": 13,
   "id": "fbdfefdb",
   "metadata": {},
   "outputs": [
    {
     "data": {
      "text/plain": [
       "count    298465.000000\n",
       "mean        357.075912\n",
       "std         500.687014\n",
       "min           0.000000\n",
       "25%          50.000000\n",
       "50%         159.000000\n",
       "75%         454.000000\n",
       "max       14683.000000\n",
       "Name: translated_text, dtype: float64"
      ]
     },
     "execution_count": 13,
     "metadata": {},
     "output_type": "execute_result"
    }
   ],
   "source": [
    "df1[df1['original_text'].str.len() < 1000]['translated_text'].str.len().describe()"
   ]
  },
  {
   "cell_type": "code",
   "execution_count": 14,
   "id": "be0ce377",
   "metadata": {},
   "outputs": [
    {
     "data": {
      "text/plain": [
       "count    280374.000000\n",
       "mean        268.493751\n",
       "std         325.297855\n",
       "min           0.000000\n",
       "25%          46.000000\n",
       "50%         139.000000\n",
       "75%         373.000000\n",
       "max       10633.000000\n",
       "Name: translated_text, dtype: float64"
      ]
     },
     "execution_count": 14,
     "metadata": {},
     "output_type": "execute_result"
    }
   ],
   "source": [
    "df1[df1['original_text'].str.len() < 500]['translated_text'].str.len().describe()"
   ]
  },
  {
   "cell_type": "code",
   "execution_count": 15,
   "id": "abf98819",
   "metadata": {},
   "outputs": [
    {
     "data": {
      "text/plain": [
       "count     308554\n",
       "mean         516\n",
       "std         3006\n",
       "min            0\n",
       "25%           52\n",
       "50%          170\n",
       "75%          510\n",
       "max      1232042\n",
       "Name: translated_text, dtype: int64"
      ]
     },
     "execution_count": 15,
     "metadata": {},
     "output_type": "execute_result"
    }
   ],
   "source": [
    "df1['translated_text'].str.len().describe().astype(int)"
   ]
  },
  {
   "cell_type": "code",
   "execution_count": 16,
   "id": "b98ccc6f",
   "metadata": {},
   "outputs": [
    {
     "data": {
      "text/plain": [
       "<Axes: >"
      ]
     },
     "execution_count": 16,
     "metadata": {},
     "output_type": "execute_result"
    },
    {
     "data": {
      "image/png": "[encoded data removed]",
      "text/plain": [
       "<Figure size 640x480 with 1 Axes>"
      ]
     },
     "metadata": {},
     "output_type": "display_data"
    }
   ],
   "source": [
    "df1['original_text'].str.len().hist(bins=100)"
   ]
  },
  {
   "cell_type": "code",
   "execution_count": 17,
   "id": "9ddcd66e",
   "metadata": {},
   "outputs": [
    {
     "data": {
      "text/plain": [
       "<Axes: >"
      ]
     },
     "execution_count": 17,
     "metadata": {},
     "output_type": "execute_result"
    },
    {
     "data": {
      "image/png": "[encoded data removed]",
      "text/plain": [
       "<Figure size 640x480 with 1 Axes>"
      ]
     },
     "metadata": {},
     "output_type": "display_data"
    }
   ],
   "source": [
    "df1['translated_text'].str.len().hist(bins=100)"
   ]
  },
  {
   "cell_type": "markdown",
   "id": "1a19df9f",
   "metadata": {},
   "source": [
    "## Train / Test Set Hold"
   ]
  },
  {
   "cell_type": "code",
   "execution_count": 18,
   "id": "8a35f949",
   "metadata": {},
   "outputs": [
    {
     "data": {
      "text/html": [
       "<div>\n",
       "<style scoped>\n",
       "    .dataframe tbody tr th:only-of-type {\n",
       "        vertical-align: middle;\n",
       "    }\n",
       "\n",
       "    .dataframe tbody tr th {\n",
       "        vertical-align: top;\n",
       "    }\n",
       "\n",
       "    .dataframe thead th {\n",
       "        text-align: right;\n",
       "    }\n",
       "</style>\n",
       "<table border=\"1\" class=\"dataframe\">\n",
       "  <thead>\n",
       "    <tr style=\"text-align: right;\">\n",
       "      <th></th>\n",
       "      <th>king</th>\n",
       "      <th>king_order</th>\n",
       "      <th>year</th>\n",
       "      <th>relative_year</th>\n",
       "      <th>month</th>\n",
       "      <th>entry_order</th>\n",
       "      <th>original_text</th>\n",
       "      <th>translated_text</th>\n",
       "    </tr>\n",
       "  </thead>\n",
       "  <tbody>\n",
       "    <tr>\n",
       "      <th>0</th>\n",
       "      <td>태조</td>\n",
       "      <td>1</td>\n",
       "      <td>NaN</td>\n",
       "      <td>NaN</td>\n",
       "      <td>총서</td>\n",
       "      <td>1.0</td>\n",
       "      <td>太祖康獻至仁啓運聖文神武大王, 姓李氏, 諱旦, 字君晋, 古諱成桂, 號松軒, 全州大姓也...</td>\n",
       "      <td>태조 강헌 지인 계운 성문 신무 대왕(太祖康獻至仁啓運聖文神武大王)의 성은 이씨(李氏...</td>\n",
       "    </tr>\n",
       "    <tr>\n",
       "      <th>1</th>\n",
       "      <td>태조</td>\n",
       "      <td>1</td>\n",
       "      <td>NaN</td>\n",
       "      <td>NaN</td>\n",
       "      <td>총서</td>\n",
       "      <td>2.0</td>\n",
       "      <td>○明年乙卯, 散吉聞于元帝, 元爲立斡東千戶所, 給降金牌, 爲南京等處五千戶所, 首千戶、...</td>\n",
       "      <td>명년 을묘(1255)에 산길이 이 사실을 원(元)나라 황제에게 알리니, 원나라에서 ...</td>\n",
       "    </tr>\n",
       "    <tr>\n",
       "      <th>2</th>\n",
       "      <td>태조</td>\n",
       "      <td>1</td>\n",
       "      <td>NaN</td>\n",
       "      <td>NaN</td>\n",
       "      <td>총서</td>\n",
       "      <td>3.0</td>\n",
       "      <td>○斡東東南三十餘里, 有海島曰者考羅, 北連於陸。 穆祖築石城, 以放牛馬。</td>\n",
       "      <td>알동의 동남쪽 30여 리에 해도(海島)가 있는데, 자고라(者考羅)라고 한다. 북쪽으...</td>\n",
       "    </tr>\n",
       "    <tr>\n",
       "      <th>3</th>\n",
       "      <td>태조</td>\n",
       "      <td>1</td>\n",
       "      <td>NaN</td>\n",
       "      <td>NaN</td>\n",
       "      <td>총서</td>\n",
       "      <td>4.0</td>\n",
       "      <td>○憲宗八年, 受散吉令旨, 管領李春、文大純、趙奧、魯哥兒、卓靑、尙哉、光奕、張哥等八介百戶...</td>\n",
       "      <td>〈원나라〉 헌종(憲宗) 8년(1258)에 산길(散吉)의 영지(令旨)를 받아, 이춘(...</td>\n",
       "    </tr>\n",
       "    <tr>\n",
       "      <th>4</th>\n",
       "      <td>태조</td>\n",
       "      <td>1</td>\n",
       "      <td>NaN</td>\n",
       "      <td>NaN</td>\n",
       "      <td>총서</td>\n",
       "      <td>5.0</td>\n",
       "      <td>○世祖皇帝 中統二年辛酉六月, 尙書省給降本所行使銅印。</td>\n",
       "      <td>세조 황제(世祖皇帝) 중통(中統) 2년(1261) 신유 6월에 상서성(尙書省)에서 ...</td>\n",
       "    </tr>\n",
       "  </tbody>\n",
       "</table>\n",
       "</div>"
      ],
      "text/plain": [
       "  king  king_order  year  relative_year month  entry_order  \\\n",
       "0   태조           1   NaN            NaN    총서          1.0   \n",
       "1   태조           1   NaN            NaN    총서          2.0   \n",
       "2   태조           1   NaN            NaN    총서          3.0   \n",
       "3   태조           1   NaN            NaN    총서          4.0   \n",
       "4   태조           1   NaN            NaN    총서          5.0   \n",
       "\n",
       "                                       original_text  \\\n",
       "0  太祖康獻至仁啓運聖文神武大王, 姓李氏, 諱旦, 字君晋, 古諱成桂, 號松軒, 全州大姓也...   \n",
       "1  ○明年乙卯, 散吉聞于元帝, 元爲立斡東千戶所, 給降金牌, 爲南京等處五千戶所, 首千戶、...   \n",
       "2             ○斡東東南三十餘里, 有海島曰者考羅, 北連於陸。 穆祖築石城, 以放牛馬。   \n",
       "3  ○憲宗八年, 受散吉令旨, 管領李春、文大純、趙奧、魯哥兒、卓靑、尙哉、光奕、張哥等八介百戶...   \n",
       "4                       ○世祖皇帝 中統二年辛酉六月, 尙書省給降本所行使銅印。   \n",
       "\n",
       "                                     translated_text  \n",
       "0  태조 강헌 지인 계운 성문 신무 대왕(太祖康獻至仁啓運聖文神武大王)의 성은 이씨(李氏...  \n",
       "1  명년 을묘(1255)에 산길이 이 사실을 원(元)나라 황제에게 알리니, 원나라에서 ...  \n",
       "2  알동의 동남쪽 30여 리에 해도(海島)가 있는데, 자고라(者考羅)라고 한다. 북쪽으...  \n",
       "3  〈원나라〉 헌종(憲宗) 8년(1258)에 산길(散吉)의 영지(令旨)를 받아, 이춘(...  \n",
       "4  세조 황제(世祖皇帝) 중통(中統) 2년(1261) 신유 6월에 상서성(尙書省)에서 ...  "
      ]
     },
     "execution_count": 18,
     "metadata": {},
     "output_type": "execute_result"
    }
   ],
   "source": [
    "df1 = df1[df1['translated_text'].str.len() < 6000]\n",
    "df1.head()"
   ]
  },
  {
   "cell_type": "code",
   "execution_count": 19,
   "id": "73feaca7",
   "metadata": {},
   "outputs": [
    {
     "data": {
      "text/html": [
       "<div>\n",
       "<style scoped>\n",
       "    .dataframe tbody tr th:only-of-type {\n",
       "        vertical-align: middle;\n",
       "    }\n",
       "\n",
       "    .dataframe tbody tr th {\n",
       "        vertical-align: top;\n",
       "    }\n",
       "\n",
       "    .dataframe thead th {\n",
       "        text-align: right;\n",
       "    }\n",
       "</style>\n",
       "<table border=\"1\" class=\"dataframe\">\n",
       "  <thead>\n",
       "    <tr style=\"text-align: right;\">\n",
       "      <th></th>\n",
       "      <th>original_text</th>\n",
       "      <th>translated_text</th>\n",
       "    </tr>\n",
       "  </thead>\n",
       "  <tbody>\n",
       "    <tr>\n",
       "      <th>0</th>\n",
       "      <td>太祖康獻至仁啓運聖文神武大王, 姓李氏, 諱旦, 字君晋, 古諱成桂, 號松軒, 全州大姓也...</td>\n",
       "      <td>태조 강헌 지인 계운 성문 신무 대왕(太祖康獻至仁啓運聖文神武大王)의 성은 이씨(李氏...</td>\n",
       "    </tr>\n",
       "    <tr>\n",
       "      <th>1</th>\n",
       "      <td>○明年乙卯, 散吉聞于元帝, 元爲立斡東千戶所, 給降金牌, 爲南京等處五千戶所, 首千戶、...</td>\n",
       "      <td>명년 을묘(1255)에 산길이 이 사실을 원(元)나라 황제에게 알리니, 원나라에서 ...</td>\n",
       "    </tr>\n",
       "    <tr>\n",
       "      <th>2</th>\n",
       "      <td>○斡東東南三十餘里, 有海島曰者考羅, 北連於陸。 穆祖築石城, 以放牛馬。</td>\n",
       "      <td>알동의 동남쪽 30여 리에 해도(海島)가 있는데, 자고라(者考羅)라고 한다. 북쪽으...</td>\n",
       "    </tr>\n",
       "    <tr>\n",
       "      <th>3</th>\n",
       "      <td>○憲宗八年, 受散吉令旨, 管領李春、文大純、趙奧、魯哥兒、卓靑、尙哉、光奕、張哥等八介百戶...</td>\n",
       "      <td>〈원나라〉 헌종(憲宗) 8년(1258)에 산길(散吉)의 영지(令旨)를 받아, 이춘(...</td>\n",
       "    </tr>\n",
       "    <tr>\n",
       "      <th>4</th>\n",
       "      <td>○世祖皇帝 中統二年辛酉六月, 尙書省給降本所行使銅印。</td>\n",
       "      <td>세조 황제(世祖皇帝) 중통(中統) 2년(1261) 신유 6월에 상서성(尙書省)에서 ...</td>\n",
       "    </tr>\n",
       "    <tr>\n",
       "      <th>...</th>\n",
       "      <td>...</td>\n",
       "      <td>...</td>\n",
       "    </tr>\n",
       "    <tr>\n",
       "      <th>308549</th>\n",
       "      <td>三日。 申時, 裕陵啓欑宮。 仍行別奠。</td>\n",
       "      <td>신시(申時)에 유릉(裕陵)에서 찬궁(欑宮)을 열고 별전(別奠)을 행하였다.</td>\n",
       "    </tr>\n",
       "    <tr>\n",
       "      <th>308550</th>\n",
       "      <td>命金昇圭殯殿主監提擧差下。</td>\n",
       "      <td>김승규(金昇圭)를 빈전 주감 제거(殯殿主監提擧)에 차하(差下)하라고 명하였다.</td>\n",
       "    </tr>\n",
       "    <tr>\n",
       "      <th>308551</th>\n",
       "      <td>六日。 【陰曆戊辰五月十九日】 祔純宗于太廟。 純明孝皇后同祔。 御眞奉安于璿源殿。 【純宗...</td>\n",
       "      <td>【음력 무진(戊辰) 5월 19일】 태묘(太廟)에 순종(純宗)의 신주(神主)를 모시고...</td>\n",
       "    </tr>\n",
       "    <tr>\n",
       "      <th>308552</th>\n",
       "      <td>六日。 【陰曆戊辰五月十九日】 祔純宗于太廟。 純明孝皇后同祔。 御眞奉安于璿源殿。 【純宗...</td>\n",
       "      <td>【음력 무진(戊辰) 5월 19일】 태묘(太廟)에 순종(純宗)의 신주(神主)를 모시고...</td>\n",
       "    </tr>\n",
       "    <tr>\n",
       "      <th>308553</th>\n",
       "      <td>三日。 【陰曆戊辰三月十四日】 純明皇后徽號望, 以‘敬顯成徽’議定。</td>\n",
       "      <td>【음력 무진(戊辰) 3월 14일】 순명 황후(純明皇后)의 휘호망(徽號望)으로 ‘경현...</td>\n",
       "    </tr>\n",
       "  </tbody>\n",
       "</table>\n",
       "<p>306628 rows × 2 columns</p>\n",
       "</div>"
      ],
      "text/plain": [
       "                                            original_text  \\\n",
       "0       太祖康獻至仁啓運聖文神武大王, 姓李氏, 諱旦, 字君晋, 古諱成桂, 號松軒, 全州大姓也...   \n",
       "1       ○明年乙卯, 散吉聞于元帝, 元爲立斡東千戶所, 給降金牌, 爲南京等處五千戶所, 首千戶、...   \n",
       "2                  ○斡東東南三十餘里, 有海島曰者考羅, 北連於陸。 穆祖築石城, 以放牛馬。   \n",
       "3       ○憲宗八年, 受散吉令旨, 管領李春、文大純、趙奧、魯哥兒、卓靑、尙哉、光奕、張哥等八介百戶...   \n",
       "4                            ○世祖皇帝 中統二年辛酉六月, 尙書省給降本所行使銅印。   \n",
       "...                                                   ...   \n",
       "308549                               三日。 申時, 裕陵啓欑宮。 仍行別奠。   \n",
       "308550                                      命金昇圭殯殿主監提擧差下。   \n",
       "308551  六日。 【陰曆戊辰五月十九日】 祔純宗于太廟。 純明孝皇后同祔。 御眞奉安于璿源殿。 【純宗...   \n",
       "308552  六日。 【陰曆戊辰五月十九日】 祔純宗于太廟。 純明孝皇后同祔。 御眞奉安于璿源殿。 【純宗...   \n",
       "308553                三日。 【陰曆戊辰三月十四日】 純明皇后徽號望, 以‘敬顯成徽’議定。   \n",
       "\n",
       "                                          translated_text  \n",
       "0       태조 강헌 지인 계운 성문 신무 대왕(太祖康獻至仁啓運聖文神武大王)의 성은 이씨(李氏...  \n",
       "1       명년 을묘(1255)에 산길이 이 사실을 원(元)나라 황제에게 알리니, 원나라에서 ...  \n",
       "2       알동의 동남쪽 30여 리에 해도(海島)가 있는데, 자고라(者考羅)라고 한다. 북쪽으...  \n",
       "3       〈원나라〉 헌종(憲宗) 8년(1258)에 산길(散吉)의 영지(令旨)를 받아, 이춘(...  \n",
       "4       세조 황제(世祖皇帝) 중통(中統) 2년(1261) 신유 6월에 상서성(尙書省)에서 ...  \n",
       "...                                                   ...  \n",
       "308549          신시(申時)에 유릉(裕陵)에서 찬궁(欑宮)을 열고 별전(別奠)을 행하였다.  \n",
       "308550        김승규(金昇圭)를 빈전 주감 제거(殯殿主監提擧)에 차하(差下)하라고 명하였다.  \n",
       "308551  【음력 무진(戊辰) 5월 19일】 태묘(太廟)에 순종(純宗)의 신주(神主)를 모시고...  \n",
       "308552  【음력 무진(戊辰) 5월 19일】 태묘(太廟)에 순종(純宗)의 신주(神主)를 모시고...  \n",
       "308553  【음력 무진(戊辰) 3월 14일】 순명 황후(純明皇后)의 휘호망(徽號望)으로 ‘경현...  \n",
       "\n",
       "[306628 rows x 2 columns]"
      ]
     },
     "execution_count": 19,
     "metadata": {},
     "output_type": "execute_result"
    }
   ],
   "source": [
    "df1[['original_text', 'translated_text']]"
   ]
  },
  {
   "cell_type": "code",
   "execution_count": 20,
   "id": "11599dd6",
   "metadata": {},
   "outputs": [
    {
     "data": {
      "text/plain": [
       "'Train Set Size : 275965, Test Set Size : 30662'"
      ]
     },
     "execution_count": 20,
     "metadata": {},
     "output_type": "execute_result"
    }
   ],
   "source": [
    "f'Train Set Size : {int(len(df1) * 0.9)}, Test Set Size : {int(len(df1) * 0.1)}'"
   ]
  },
  {
   "cell_type": "code",
   "execution_count": 21,
   "id": "3e02a36a",
   "metadata": {},
   "outputs": [
    {
     "data": {
      "text/plain": [
       "'Train Set Size : 275965, Test Set Size : 30662'"
      ]
     },
     "execution_count": 21,
     "metadata": {},
     "output_type": "execute_result"
    }
   ],
   "source": [
    "f'Train Set Size : {int(len(df1) * 0.9)}, Test Set Size : {int(len(df1) * 0.1)}'"
   ]
  },
  {
   "cell_type": "code",
   "execution_count": 22,
   "id": "6cf4cef5",
   "metadata": {},
   "outputs": [
    {
     "data": {
      "text/html": [
       "<div>\n",
       "<style scoped>\n",
       "    .dataframe tbody tr th:only-of-type {\n",
       "        vertical-align: middle;\n",
       "    }\n",
       "\n",
       "    .dataframe tbody tr th {\n",
       "        vertical-align: top;\n",
       "    }\n",
       "\n",
       "    .dataframe thead th {\n",
       "        text-align: right;\n",
       "    }\n",
       "</style>\n",
       "<table border=\"1\" class=\"dataframe\">\n",
       "  <thead>\n",
       "    <tr style=\"text-align: right;\">\n",
       "      <th></th>\n",
       "      <th>king</th>\n",
       "      <th>king_order</th>\n",
       "      <th>year</th>\n",
       "      <th>relative_year</th>\n",
       "      <th>month</th>\n",
       "      <th>entry_order</th>\n",
       "      <th>original_text</th>\n",
       "      <th>translated_text</th>\n",
       "      <th>entry_order_grouped</th>\n",
       "    </tr>\n",
       "  </thead>\n",
       "  <tbody>\n",
       "    <tr>\n",
       "      <th>0</th>\n",
       "      <td>태조</td>\n",
       "      <td>1</td>\n",
       "      <td>NaN</td>\n",
       "      <td>NaN</td>\n",
       "      <td>총서</td>\n",
       "      <td>1.0</td>\n",
       "      <td>太祖康獻至仁啓運聖文神武大王, 姓李氏, 諱旦, 字君晋, 古諱成桂, 號松軒, 全州大姓也...</td>\n",
       "      <td>태조 강헌 지인 계운 성문 신무 대왕(太祖康獻至仁啓運聖文神武大王)의 성은 이씨(李氏...</td>\n",
       "      <td>0.0</td>\n",
       "    </tr>\n",
       "    <tr>\n",
       "      <th>1</th>\n",
       "      <td>태조</td>\n",
       "      <td>1</td>\n",
       "      <td>NaN</td>\n",
       "      <td>NaN</td>\n",
       "      <td>총서</td>\n",
       "      <td>2.0</td>\n",
       "      <td>○明年乙卯, 散吉聞于元帝, 元爲立斡東千戶所, 給降金牌, 爲南京等處五千戶所, 首千戶、...</td>\n",
       "      <td>명년 을묘(1255)에 산길이 이 사실을 원(元)나라 황제에게 알리니, 원나라에서 ...</td>\n",
       "      <td>0.0</td>\n",
       "    </tr>\n",
       "    <tr>\n",
       "      <th>2</th>\n",
       "      <td>태조</td>\n",
       "      <td>1</td>\n",
       "      <td>NaN</td>\n",
       "      <td>NaN</td>\n",
       "      <td>총서</td>\n",
       "      <td>3.0</td>\n",
       "      <td>○斡東東南三十餘里, 有海島曰者考羅, 北連於陸。 穆祖築石城, 以放牛馬。</td>\n",
       "      <td>알동의 동남쪽 30여 리에 해도(海島)가 있는데, 자고라(者考羅)라고 한다. 북쪽으...</td>\n",
       "      <td>0.0</td>\n",
       "    </tr>\n",
       "    <tr>\n",
       "      <th>3</th>\n",
       "      <td>태조</td>\n",
       "      <td>1</td>\n",
       "      <td>NaN</td>\n",
       "      <td>NaN</td>\n",
       "      <td>총서</td>\n",
       "      <td>4.0</td>\n",
       "      <td>○憲宗八年, 受散吉令旨, 管領李春、文大純、趙奧、魯哥兒、卓靑、尙哉、光奕、張哥等八介百戶...</td>\n",
       "      <td>〈원나라〉 헌종(憲宗) 8년(1258)에 산길(散吉)의 영지(令旨)를 받아, 이춘(...</td>\n",
       "      <td>0.0</td>\n",
       "    </tr>\n",
       "    <tr>\n",
       "      <th>4</th>\n",
       "      <td>태조</td>\n",
       "      <td>1</td>\n",
       "      <td>NaN</td>\n",
       "      <td>NaN</td>\n",
       "      <td>총서</td>\n",
       "      <td>5.0</td>\n",
       "      <td>○世祖皇帝 中統二年辛酉六月, 尙書省給降本所行使銅印。</td>\n",
       "      <td>세조 황제(世祖皇帝) 중통(中統) 2년(1261) 신유 6월에 상서성(尙書省)에서 ...</td>\n",
       "      <td>1.0</td>\n",
       "    </tr>\n",
       "  </tbody>\n",
       "</table>\n",
       "</div>"
      ],
      "text/plain": [
       "  king  king_order  year  relative_year month  entry_order  \\\n",
       "0   태조           1   NaN            NaN    총서          1.0   \n",
       "1   태조           1   NaN            NaN    총서          2.0   \n",
       "2   태조           1   NaN            NaN    총서          3.0   \n",
       "3   태조           1   NaN            NaN    총서          4.0   \n",
       "4   태조           1   NaN            NaN    총서          5.0   \n",
       "\n",
       "                                       original_text  \\\n",
       "0  太祖康獻至仁啓運聖文神武大王, 姓李氏, 諱旦, 字君晋, 古諱成桂, 號松軒, 全州大姓也...   \n",
       "1  ○明年乙卯, 散吉聞于元帝, 元爲立斡東千戶所, 給降金牌, 爲南京等處五千戶所, 首千戶、...   \n",
       "2             ○斡東東南三十餘里, 有海島曰者考羅, 北連於陸。 穆祖築石城, 以放牛馬。   \n",
       "3  ○憲宗八年, 受散吉令旨, 管領李春、文大純、趙奧、魯哥兒、卓靑、尙哉、光奕、張哥等八介百戶...   \n",
       "4                       ○世祖皇帝 中統二年辛酉六月, 尙書省給降本所行使銅印。   \n",
       "\n",
       "                                     translated_text  entry_order_grouped  \n",
       "0  태조 강헌 지인 계운 성문 신무 대왕(太祖康獻至仁啓運聖文神武大王)의 성은 이씨(李氏...                  0.0  \n",
       "1  명년 을묘(1255)에 산길이 이 사실을 원(元)나라 황제에게 알리니, 원나라에서 ...                  0.0  \n",
       "2  알동의 동남쪽 30여 리에 해도(海島)가 있는데, 자고라(者考羅)라고 한다. 북쪽으...                  0.0  \n",
       "3  〈원나라〉 헌종(憲宗) 8년(1258)에 산길(散吉)의 영지(令旨)를 받아, 이춘(...                  0.0  \n",
       "4  세조 황제(世祖皇帝) 중통(中統) 2년(1261) 신유 6월에 상서성(尙書省)에서 ...                  1.0  "
      ]
     },
     "execution_count": 22,
     "metadata": {},
     "output_type": "execute_result"
    }
   ],
   "source": [
    "group_factor = 5\n",
    "df1['entry_order_grouped'] = df1['entry_order'] // group_factor\n",
    "df1.head()"
   ]
  },
  {
   "cell_type": "code",
   "execution_count": 23,
   "id": "552c2e7d",
   "metadata": {},
   "outputs": [
    {
     "data": {
      "text/plain": [
       "array([ 0.,  1.,  2.,  3.,  4.,  5.,  6.,  7.,  8.,  9., 10., 11., 12.,\n",
       "       13., 14., 15., 16., 17., 18., 19., 20., 21., 22., 23., 24., 25.,\n",
       "       26., nan, 27., 28., 29., 30., 31., 32., 33., 34., 35., 36., 37.,\n",
       "       38., 39., 40., 41., 42., 43., 44., 45., 46., 47., 48., 49., 50.,\n",
       "       51., 52., 53., 54., 55., 56., 57., 58., 59., 60., 61., 62., 63.,\n",
       "       64., 65., 66., 67., 68., 69., 70., 71., 72., 73., 74., 75., 76.,\n",
       "       77., 78., 79., 80., 81., 82., 83.])"
      ]
     },
     "execution_count": 23,
     "metadata": {},
     "output_type": "execute_result"
    }
   ],
   "source": [
    "df1['entry_order_grouped'].unique()"
   ]
  },
  {
   "cell_type": "code",
   "execution_count": 24,
   "id": "8ff35a06",
   "metadata": {},
   "outputs": [
    {
     "data": {
      "text/html": [
       "<div>\n",
       "<style scoped>\n",
       "    .dataframe tbody tr th:only-of-type {\n",
       "        vertical-align: middle;\n",
       "    }\n",
       "\n",
       "    .dataframe tbody tr th {\n",
       "        vertical-align: top;\n",
       "    }\n",
       "\n",
       "    .dataframe thead th {\n",
       "        text-align: right;\n",
       "    }\n",
       "</style>\n",
       "<table border=\"1\" class=\"dataframe\">\n",
       "  <thead>\n",
       "    <tr style=\"text-align: right;\">\n",
       "      <th></th>\n",
       "      <th>king</th>\n",
       "      <th>king_order</th>\n",
       "      <th>year</th>\n",
       "      <th>relative_year</th>\n",
       "      <th>month</th>\n",
       "      <th>entry_order</th>\n",
       "      <th>original_text</th>\n",
       "      <th>translated_text</th>\n",
       "      <th>entry_order_grouped</th>\n",
       "    </tr>\n",
       "  </thead>\n",
       "  <tbody>\n",
       "    <tr>\n",
       "      <th>0</th>\n",
       "      <td>태조</td>\n",
       "      <td>1</td>\n",
       "      <td>NaN</td>\n",
       "      <td>NaN</td>\n",
       "      <td>총서</td>\n",
       "      <td>1.0</td>\n",
       "      <td>太祖康獻至仁啓運聖文神武大王, 姓李氏, 諱旦, 字君晋, 古諱成桂, 號松軒, 全州大姓也...</td>\n",
       "      <td>태조 강헌 지인 계운 성문 신무 대왕(太祖康獻至仁啓運聖文神武大王)의 성은 이씨(李氏...</td>\n",
       "      <td>0.0</td>\n",
       "    </tr>\n",
       "    <tr>\n",
       "      <th>1</th>\n",
       "      <td>태조</td>\n",
       "      <td>1</td>\n",
       "      <td>NaN</td>\n",
       "      <td>NaN</td>\n",
       "      <td>총서</td>\n",
       "      <td>2.0</td>\n",
       "      <td>○明年乙卯, 散吉聞于元帝, 元爲立斡東千戶所, 給降金牌, 爲南京等處五千戶所, 首千戶、...</td>\n",
       "      <td>명년 을묘(1255)에 산길이 이 사실을 원(元)나라 황제에게 알리니, 원나라에서 ...</td>\n",
       "      <td>0.0</td>\n",
       "    </tr>\n",
       "    <tr>\n",
       "      <th>2</th>\n",
       "      <td>태조</td>\n",
       "      <td>1</td>\n",
       "      <td>NaN</td>\n",
       "      <td>NaN</td>\n",
       "      <td>총서</td>\n",
       "      <td>3.0</td>\n",
       "      <td>○斡東東南三十餘里, 有海島曰者考羅, 北連於陸。 穆祖築石城, 以放牛馬。</td>\n",
       "      <td>알동의 동남쪽 30여 리에 해도(海島)가 있는데, 자고라(者考羅)라고 한다. 북쪽으...</td>\n",
       "      <td>0.0</td>\n",
       "    </tr>\n",
       "    <tr>\n",
       "      <th>3</th>\n",
       "      <td>태조</td>\n",
       "      <td>1</td>\n",
       "      <td>NaN</td>\n",
       "      <td>NaN</td>\n",
       "      <td>총서</td>\n",
       "      <td>4.0</td>\n",
       "      <td>○憲宗八年, 受散吉令旨, 管領李春、文大純、趙奧、魯哥兒、卓靑、尙哉、光奕、張哥等八介百戶...</td>\n",
       "      <td>〈원나라〉 헌종(憲宗) 8년(1258)에 산길(散吉)의 영지(令旨)를 받아, 이춘(...</td>\n",
       "      <td>0.0</td>\n",
       "    </tr>\n",
       "    <tr>\n",
       "      <th>4</th>\n",
       "      <td>태조</td>\n",
       "      <td>1</td>\n",
       "      <td>NaN</td>\n",
       "      <td>NaN</td>\n",
       "      <td>총서</td>\n",
       "      <td>5.0</td>\n",
       "      <td>○世祖皇帝 中統二年辛酉六月, 尙書省給降本所行使銅印。</td>\n",
       "      <td>세조 황제(世祖皇帝) 중통(中統) 2년(1261) 신유 6월에 상서성(尙書省)에서 ...</td>\n",
       "      <td>1.0</td>\n",
       "    </tr>\n",
       "  </tbody>\n",
       "</table>\n",
       "</div>"
      ],
      "text/plain": [
       "  king  king_order  year  relative_year month  entry_order  \\\n",
       "0   태조           1   NaN            NaN    총서          1.0   \n",
       "1   태조           1   NaN            NaN    총서          2.0   \n",
       "2   태조           1   NaN            NaN    총서          3.0   \n",
       "3   태조           1   NaN            NaN    총서          4.0   \n",
       "4   태조           1   NaN            NaN    총서          5.0   \n",
       "\n",
       "                                       original_text  \\\n",
       "0  太祖康獻至仁啓運聖文神武大王, 姓李氏, 諱旦, 字君晋, 古諱成桂, 號松軒, 全州大姓也...   \n",
       "1  ○明年乙卯, 散吉聞于元帝, 元爲立斡東千戶所, 給降金牌, 爲南京等處五千戶所, 首千戶、...   \n",
       "2             ○斡東東南三十餘里, 有海島曰者考羅, 北連於陸。 穆祖築石城, 以放牛馬。   \n",
       "3  ○憲宗八年, 受散吉令旨, 管領李春、文大純、趙奧、魯哥兒、卓靑、尙哉、光奕、張哥等八介百戶...   \n",
       "4                       ○世祖皇帝 中統二年辛酉六月, 尙書省給降本所行使銅印。   \n",
       "\n",
       "                                     translated_text  entry_order_grouped  \n",
       "0  태조 강헌 지인 계운 성문 신무 대왕(太祖康獻至仁啓運聖文神武大王)의 성은 이씨(李氏...                  0.0  \n",
       "1  명년 을묘(1255)에 산길이 이 사실을 원(元)나라 황제에게 알리니, 원나라에서 ...                  0.0  \n",
       "2  알동의 동남쪽 30여 리에 해도(海島)가 있는데, 자고라(者考羅)라고 한다. 북쪽으...                  0.0  \n",
       "3  〈원나라〉 헌종(憲宗) 8년(1258)에 산길(散吉)의 영지(令旨)를 받아, 이춘(...                  0.0  \n",
       "4  세조 황제(世祖皇帝) 중통(中統) 2년(1261) 신유 6월에 상서성(尙書省)에서 ...                  1.0  "
      ]
     },
     "execution_count": 24,
     "metadata": {},
     "output_type": "execute_result"
    }
   ],
   "source": [
    "df1['entry_order_grouped'] = df1['entry_order_grouped'].fillna(-1)\n",
    "df1.head()"
   ]
  },
  {
   "cell_type": "code",
   "execution_count": 25,
   "id": "9f161862",
   "metadata": {},
   "outputs": [
    {
     "data": {
      "text/html": [
       "<div>\n",
       "<style scoped>\n",
       "    .dataframe tbody tr th:only-of-type {\n",
       "        vertical-align: middle;\n",
       "    }\n",
       "\n",
       "    .dataframe tbody tr th {\n",
       "        vertical-align: top;\n",
       "    }\n",
       "\n",
       "    .dataframe thead th {\n",
       "        text-align: right;\n",
       "    }\n",
       "</style>\n",
       "<table border=\"1\" class=\"dataframe\">\n",
       "  <thead>\n",
       "    <tr style=\"text-align: right;\">\n",
       "      <th></th>\n",
       "      <th>king</th>\n",
       "      <th>year</th>\n",
       "      <th>month</th>\n",
       "      <th>entry_order_grouped</th>\n",
       "      <th>original_text</th>\n",
       "      <th>translated_text</th>\n",
       "    </tr>\n",
       "  </thead>\n",
       "  <tbody>\n",
       "    <tr>\n",
       "      <th>0</th>\n",
       "      <td>경종</td>\n",
       "      <td>1720.0</td>\n",
       "      <td>10월</td>\n",
       "      <td>0.0</td>\n",
       "      <td>○朔甲午/夜電。 ○以兪拓基爲吏曹佐郞。 ○行都堂錄, 選李箕鎭、申晳、申昉、金鎭商、李重協...</td>\n",
       "      <td>밤에 번개가 쳤다. 유척기(兪拓基)를 이조 좌랑(吏曹佐郞)으로 삼았다. (도당록(都...</td>\n",
       "    </tr>\n",
       "    <tr>\n",
       "      <th>1</th>\n",
       "      <td>경종</td>\n",
       "      <td>1720.0</td>\n",
       "      <td>10월</td>\n",
       "      <td>1.0</td>\n",
       "      <td>○丙申/以柳重茂、朴彙登爲承旨。 ○戊戌/以李敏英、李翊漢爲承旨, 任泂爲掌令, 洪龍祚爲正...</td>\n",
       "      <td>유중무(柳重茂)·박휘등(朴彙登)을 승지(承旨)로 삼았다. 이민영(李敏英)·이익한(李...</td>\n",
       "    </tr>\n",
       "    <tr>\n",
       "      <th>2</th>\n",
       "      <td>경종</td>\n",
       "      <td>1720.0</td>\n",
       "      <td>10월</td>\n",
       "      <td>2.0</td>\n",
       "      <td>○庚子/正言趙最壽上疏。 略曰:\\n今日廷臣, 不知何故, 自生疑懼, 爲計日深, 凡所以操...</td>\n",
       "      <td>정언(正言) 조최수(趙最壽)가 소를 올렸는데, 대략 이르기를,\\n\"오늘날 조신(朝臣...</td>\n",
       "    </tr>\n",
       "    <tr>\n",
       "      <th>3</th>\n",
       "      <td>경종</td>\n",
       "      <td>1720.0</td>\n",
       "      <td>10월</td>\n",
       "      <td>3.0</td>\n",
       "      <td>○甲辰/摠護使李健命請對, 陳山陵坐向、水破、分金書刻及先朝虛右處, 所埋分金、坐向, 與傳...</td>\n",
       "      <td>총호사(摠護使) 이건명(李健命)이 청대(請對)하여 산릉(山陵)의 좌향(坐向)·수파(...</td>\n",
       "    </tr>\n",
       "    <tr>\n",
       "      <th>4</th>\n",
       "      <td>경종</td>\n",
       "      <td>1720.0</td>\n",
       "      <td>10월</td>\n",
       "      <td>4.0</td>\n",
       "      <td>○辛亥/以兪命雄爲工曹判書。 命雄, 庸迷無所通曉, 夤緣倖會, 得致八座, 人皆笑之。 ○...</td>\n",
       "      <td>유명웅(兪命雄)을 공조 판서(工曹判書)로 삼았다. 유명웅은 인품이 용렬하고 식견(識...</td>\n",
       "    </tr>\n",
       "  </tbody>\n",
       "</table>\n",
       "</div>"
      ],
      "text/plain": [
       "  king    year month  entry_order_grouped  \\\n",
       "0   경종  1720.0   10월                  0.0   \n",
       "1   경종  1720.0   10월                  1.0   \n",
       "2   경종  1720.0   10월                  2.0   \n",
       "3   경종  1720.0   10월                  3.0   \n",
       "4   경종  1720.0   10월                  4.0   \n",
       "\n",
       "                                       original_text  \\\n",
       "0  ○朔甲午/夜電。 ○以兪拓基爲吏曹佐郞。 ○行都堂錄, 選李箕鎭、申晳、申昉、金鎭商、李重協...   \n",
       "1  ○丙申/以柳重茂、朴彙登爲承旨。 ○戊戌/以李敏英、李翊漢爲承旨, 任泂爲掌令, 洪龍祚爲正...   \n",
       "2  ○庚子/正言趙最壽上疏。 略曰:\\n今日廷臣, 不知何故, 自生疑懼, 爲計日深, 凡所以操...   \n",
       "3  ○甲辰/摠護使李健命請對, 陳山陵坐向、水破、分金書刻及先朝虛右處, 所埋分金、坐向, 與傳...   \n",
       "4  ○辛亥/以兪命雄爲工曹判書。 命雄, 庸迷無所通曉, 夤緣倖會, 得致八座, 人皆笑之。 ○...   \n",
       "\n",
       "                                     translated_text  \n",
       "0  밤에 번개가 쳤다. 유척기(兪拓基)를 이조 좌랑(吏曹佐郞)으로 삼았다. (도당록(都...  \n",
       "1  유중무(柳重茂)·박휘등(朴彙登)을 승지(承旨)로 삼았다. 이민영(李敏英)·이익한(李...  \n",
       "2  정언(正言) 조최수(趙最壽)가 소를 올렸는데, 대략 이르기를,\\n\"오늘날 조신(朝臣...  \n",
       "3  총호사(摠護使) 이건명(李健命)이 청대(請對)하여 산릉(山陵)의 좌향(坐向)·수파(...  \n",
       "4  유명웅(兪命雄)을 공조 판서(工曹判書)로 삼았다. 유명웅은 인품이 용렬하고 식견(識...  "
      ]
     },
     "execution_count": 25,
     "metadata": {},
     "output_type": "execute_result"
    }
   ],
   "source": [
    "long_form_df = df1.groupby(['king', 'year', 'month', 'entry_order_grouped'])[['original_text', 'translated_text']].aggregate({\n",
    "    'original_text': lambda lt: ' '.join(lt),\n",
    "    'translated_text': lambda lt: ' '.join(lt),\n",
    "}).reset_index(drop=False)\n",
    "long_form_df.head()"
   ]
  },
  {
   "cell_type": "code",
   "execution_count": 26,
   "id": "ddb8c22b",
   "metadata": {},
   "outputs": [
    {
     "data": {
      "text/plain": [
       "count    64623.000000\n",
       "mean       846.684323\n",
       "std        778.231056\n",
       "min          4.000000\n",
       "25%        327.000000\n",
       "50%        635.000000\n",
       "75%       1114.000000\n",
       "max      24964.000000\n",
       "Name: original_text, dtype: float64"
      ]
     },
     "execution_count": 26,
     "metadata": {},
     "output_type": "execute_result"
    }
   ],
   "source": [
    "long_form_df['original_text'].str.len().describe()"
   ]
  },
  {
   "cell_type": "code",
   "execution_count": 27,
   "id": "84d67bd1",
   "metadata": {},
   "outputs": [
    {
     "data": {
      "text/plain": [
       "<Axes: >"
      ]
     },
     "execution_count": 27,
     "metadata": {},
     "output_type": "execute_result"
    },
    {
     "data": {
      "image/png": "[encoded data removed]",
      "text/plain": [
       "<Figure size 640x480 with 1 Axes>"
      ]
     },
     "metadata": {},
     "output_type": "display_data"
    }
   ],
   "source": [
    "long_form_df['original_text'].str.len().hist(bins=100)"
   ]
  },
  {
   "cell_type": "code",
   "execution_count": 28,
   "id": "45262eb7",
   "metadata": {},
   "outputs": [
    {
     "data": {
      "text/plain": [
       "count    64623.000000\n",
       "mean      2061.917723\n",
       "std       1779.646696\n",
       "min          8.000000\n",
       "25%        779.000000\n",
       "50%       1532.000000\n",
       "75%       2820.500000\n",
       "max      17555.000000\n",
       "Name: translated_text, dtype: float64"
      ]
     },
     "execution_count": 28,
     "metadata": {},
     "output_type": "execute_result"
    }
   ],
   "source": [
    "long_form_df['translated_text'].str.len().describe()"
   ]
  },
  {
   "cell_type": "code",
   "execution_count": 29,
   "id": "5fd9e922",
   "metadata": {},
   "outputs": [],
   "source": [
    "tokenizer = AutoTokenizer.from_pretrained(\"Qwen/Qwen2.5-1.5B\")"
   ]
  },
  {
   "cell_type": "code",
   "execution_count": 30,
   "id": "7ad41db9",
   "metadata": {},
   "outputs": [
    {
     "data": {
      "application/vnd.jupyter.widget-view+json": {
       "model_id": "bbbaec9d815c4cfd8a15faa929dac881",
       "version_major": 2,
       "version_minor": 0
      },
      "text/plain": [
       "  0%|          | 0/64623 [00:00<?, ?it/s]"
      ]
     },
     "metadata": {},
     "output_type": "display_data"
    },
    {
     "name": "stdout",
     "output_type": "stream",
     "text": [
      "Average subwords per word: 1.36\n"
     ]
    }
   ],
   "source": [
    "total_tokens = 0\n",
    "total_strings = 0\n",
    "\n",
    "for sentence in tqdm(long_form_df['translated_text']):\n",
    "    tokens = tokenizer.tokenize(sentence)\n",
    "    words = sentence.split()\n",
    "    total_tokens += len(tokens)\n",
    "    total_strings += len(sentence)\n",
    "\n",
    "average_subwords_per_word = total_strings / total_tokens\n",
    "print(f\"Average subwords per word: {average_subwords_per_word:.2f}\")"
   ]
  },
  {
   "cell_type": "code",
   "execution_count": 31,
   "id": "5cf4995e",
   "metadata": {},
   "outputs": [
    {
     "data": {
      "application/vnd.jupyter.widget-view+json": {
       "model_id": "f3dd91ca051f40c98a7b26e48dc79afa",
       "version_major": 2,
       "version_minor": 0
      },
      "text/plain": [
       "  0%|          | 0/64623 [00:00<?, ?it/s]"
      ]
     },
     "metadata": {},
     "output_type": "display_data"
    },
    {
     "name": "stdout",
     "output_type": "stream",
     "text": [
      "Average subwords per word: 0.98\n"
     ]
    }
   ],
   "source": [
    "total_tokens = 0\n",
    "total_strings = 0\n",
    "\n",
    "for sentence in tqdm(long_form_df['original_text']):\n",
    "    tokens = tokenizer.tokenize(sentence)\n",
    "    total_tokens += len(tokens)\n",
    "    total_strings += len(sentence)\n",
    "\n",
    "average_subwords_per_word = total_strings / total_tokens\n",
    "print(f\"Average subwords per word: {average_subwords_per_word:.2f}\")"
   ]
  },
  {
   "cell_type": "code",
   "execution_count": 32,
   "id": "1d29a382",
   "metadata": {},
   "outputs": [
    {
     "data": {
      "text/plain": [
       "<Axes: >"
      ]
     },
     "execution_count": 32,
     "metadata": {},
     "output_type": "execute_result"
    },
    {
     "data": {
      "image/png": "[encoded data removed]",
      "text/plain": [
       "<Figure size 640x480 with 1 Axes>"
      ]
     },
     "metadata": {},
     "output_type": "display_data"
    }
   ],
   "source": [
    "long_form_df['translated_text'].str.len().hist(bins=100)"
   ]
  },
  {
   "cell_type": "code",
   "execution_count": 33,
   "id": "7e47ad0c",
   "metadata": {},
   "outputs": [
    {
     "data": {
      "text/plain": [
       "64623"
      ]
     },
     "execution_count": 33,
     "metadata": {},
     "output_type": "execute_result"
    }
   ],
   "source": [
    "len(long_form_df)"
   ]
  },
  {
   "cell_type": "code",
   "execution_count": 34,
   "id": "454273a6",
   "metadata": {},
   "outputs": [
    {
     "data": {
      "text/html": [
       "<div>\n",
       "<style scoped>\n",
       "    .dataframe tbody tr th:only-of-type {\n",
       "        vertical-align: middle;\n",
       "    }\n",
       "\n",
       "    .dataframe tbody tr th {\n",
       "        vertical-align: top;\n",
       "    }\n",
       "\n",
       "    .dataframe thead th {\n",
       "        text-align: right;\n",
       "    }\n",
       "</style>\n",
       "<table border=\"1\" class=\"dataframe\">\n",
       "  <thead>\n",
       "    <tr style=\"text-align: right;\">\n",
       "      <th></th>\n",
       "      <th>original_text</th>\n",
       "      <th>translated_text</th>\n",
       "    </tr>\n",
       "  </thead>\n",
       "  <tbody>\n",
       "    <tr>\n",
       "      <th>0</th>\n",
       "      <td>○朔甲午/夜電。 ○以兪拓基爲吏曹佐郞。 ○行都堂錄, 選李箕鎭、申晳、申昉、金鎭商、李重協...</td>\n",
       "      <td>밤에 번개가 쳤다. 유척기(兪拓基)를 이조 좌랑(吏曹佐郞)으로 삼았다. (도당록(都...</td>\n",
       "    </tr>\n",
       "    <tr>\n",
       "      <th>1</th>\n",
       "      <td>○丙申/以柳重茂、朴彙登爲承旨。 ○戊戌/以李敏英、李翊漢爲承旨, 任泂爲掌令, 洪龍祚爲正...</td>\n",
       "      <td>유중무(柳重茂)·박휘등(朴彙登)을 승지(承旨)로 삼았다. 이민영(李敏英)·이익한(李...</td>\n",
       "    </tr>\n",
       "    <tr>\n",
       "      <th>2</th>\n",
       "      <td>○庚子/正言趙最壽上疏。 略曰:\\n今日廷臣, 不知何故, 自生疑懼, 爲計日深, 凡所以操...</td>\n",
       "      <td>정언(正言) 조최수(趙最壽)가 소를 올렸는데, 대략 이르기를,\\n\"오늘날 조신(朝臣...</td>\n",
       "    </tr>\n",
       "    <tr>\n",
       "      <th>3</th>\n",
       "      <td>○甲辰/摠護使李健命請對, 陳山陵坐向、水破、分金書刻及先朝虛右處, 所埋分金、坐向, 與傳...</td>\n",
       "      <td>총호사(摠護使) 이건명(李健命)이 청대(請對)하여 산릉(山陵)의 좌향(坐向)·수파(...</td>\n",
       "    </tr>\n",
       "    <tr>\n",
       "      <th>4</th>\n",
       "      <td>○辛亥/以兪命雄爲工曹判書。 命雄, 庸迷無所通曉, 夤緣倖會, 得致八座, 人皆笑之。 ○...</td>\n",
       "      <td>유명웅(兪命雄)을 공조 판서(工曹判書)로 삼았다. 유명웅은 인품이 용렬하고 식견(識...</td>\n",
       "    </tr>\n",
       "  </tbody>\n",
       "</table>\n",
       "</div>"
      ],
      "text/plain": [
       "                                       original_text  \\\n",
       "0  ○朔甲午/夜電。 ○以兪拓基爲吏曹佐郞。 ○行都堂錄, 選李箕鎭、申晳、申昉、金鎭商、李重協...   \n",
       "1  ○丙申/以柳重茂、朴彙登爲承旨。 ○戊戌/以李敏英、李翊漢爲承旨, 任泂爲掌令, 洪龍祚爲正...   \n",
       "2  ○庚子/正言趙最壽上疏。 略曰:\\n今日廷臣, 不知何故, 自生疑懼, 爲計日深, 凡所以操...   \n",
       "3  ○甲辰/摠護使李健命請對, 陳山陵坐向、水破、分金書刻及先朝虛右處, 所埋分金、坐向, 與傳...   \n",
       "4  ○辛亥/以兪命雄爲工曹判書。 命雄, 庸迷無所通曉, 夤緣倖會, 得致八座, 人皆笑之。 ○...   \n",
       "\n",
       "                                     translated_text  \n",
       "0  밤에 번개가 쳤다. 유척기(兪拓基)를 이조 좌랑(吏曹佐郞)으로 삼았다. (도당록(都...  \n",
       "1  유중무(柳重茂)·박휘등(朴彙登)을 승지(承旨)로 삼았다. 이민영(李敏英)·이익한(李...  \n",
       "2  정언(正言) 조최수(趙最壽)가 소를 올렸는데, 대략 이르기를,\\n\"오늘날 조신(朝臣...  \n",
       "3  총호사(摠護使) 이건명(李健命)이 청대(請對)하여 산릉(山陵)의 좌향(坐向)·수파(...  \n",
       "4  유명웅(兪命雄)을 공조 판서(工曹判書)로 삼았다. 유명웅은 인품이 용렬하고 식견(識...  "
      ]
     },
     "execution_count": 34,
     "metadata": {},
     "output_type": "execute_result"
    }
   ],
   "source": [
    "long_form_df = long_form_df.drop(columns=['king', 'year', 'month', 'entry_order_grouped'])\n",
    "long_form_df.head()"
   ]
  },
  {
   "cell_type": "code",
   "execution_count": 35,
   "id": "6dbfa669",
   "metadata": {},
   "outputs": [
    {
     "name": "stdout",
     "output_type": "stream",
     "text": [
      "Removed Fraction: 0.09840149791869768\n"
     ]
    },
    {
     "data": {
      "text/html": [
       "<div>\n",
       "<style scoped>\n",
       "    .dataframe tbody tr th:only-of-type {\n",
       "        vertical-align: middle;\n",
       "    }\n",
       "\n",
       "    .dataframe tbody tr th {\n",
       "        vertical-align: top;\n",
       "    }\n",
       "\n",
       "    .dataframe thead th {\n",
       "        text-align: right;\n",
       "    }\n",
       "</style>\n",
       "<table border=\"1\" class=\"dataframe\">\n",
       "  <thead>\n",
       "    <tr style=\"text-align: right;\">\n",
       "      <th></th>\n",
       "      <th>original_text</th>\n",
       "      <th>translated_text</th>\n",
       "    </tr>\n",
       "  </thead>\n",
       "  <tbody>\n",
       "    <tr>\n",
       "      <th>0</th>\n",
       "      <td>○朔甲午/夜電。 ○以兪拓基爲吏曹佐郞。 ○行都堂錄, 選李箕鎭、申晳、申昉、金鎭商、李重協...</td>\n",
       "      <td>밤에 번개가 쳤다. 유척기(兪拓基)를 이조 좌랑(吏曹佐郞)으로 삼았다. (도당록(都...</td>\n",
       "    </tr>\n",
       "    <tr>\n",
       "      <th>1</th>\n",
       "      <td>○丙申/以柳重茂、朴彙登爲承旨。 ○戊戌/以李敏英、李翊漢爲承旨, 任泂爲掌令, 洪龍祚爲正...</td>\n",
       "      <td>유중무(柳重茂)·박휘등(朴彙登)을 승지(承旨)로 삼았다. 이민영(李敏英)·이익한(李...</td>\n",
       "    </tr>\n",
       "    <tr>\n",
       "      <th>2</th>\n",
       "      <td>○庚子/正言趙最壽上疏。 略曰:\\n今日廷臣, 不知何故, 自生疑懼, 爲計日深, 凡所以操...</td>\n",
       "      <td>정언(正言) 조최수(趙最壽)가 소를 올렸는데, 대략 이르기를,\\n\"오늘날 조신(朝臣...</td>\n",
       "    </tr>\n",
       "    <tr>\n",
       "      <th>3</th>\n",
       "      <td>○甲辰/摠護使李健命請對, 陳山陵坐向、水破、分金書刻及先朝虛右處, 所埋分金、坐向, 與傳...</td>\n",
       "      <td>총호사(摠護使) 이건명(李健命)이 청대(請對)하여 산릉(山陵)의 좌향(坐向)·수파(...</td>\n",
       "    </tr>\n",
       "    <tr>\n",
       "      <th>4</th>\n",
       "      <td>○辛亥/以兪命雄爲工曹判書。 命雄, 庸迷無所通曉, 夤緣倖會, 得致八座, 人皆笑之。 ○...</td>\n",
       "      <td>유명웅(兪命雄)을 공조 판서(工曹判書)로 삼았다. 유명웅은 인품이 용렬하고 식견(識...</td>\n",
       "    </tr>\n",
       "    <tr>\n",
       "      <th>...</th>\n",
       "      <td>...</td>\n",
       "      <td>...</td>\n",
       "    </tr>\n",
       "    <tr>\n",
       "      <th>64618</th>\n",
       "      <td>○乙酉/右議政元斗杓呈告五度, 答曰: \"此何等時, 而卿之引入, 至於浹旬之久耶? 國事(...</td>\n",
       "      <td>우의정 원두표가 다섯 번째 정고(呈告)하니, 답하였다.\\n\"지금이 어떠한 때인데 경...</td>\n",
       "    </tr>\n",
       "    <tr>\n",
       "      <th>64619</th>\n",
       "      <td>○丁亥/忠洪道 西原縣佛像流汗。 ○憲府啓曰: \"全南監司徐必遠啓請: ‘刑曹罪囚趙義智, ...</td>\n",
       "      <td>충홍도 서원현(西原縣)에 있는 불상(佛像)에서 땀이 흘렀다. 헌부가 아뢰기를,\\n\"...</td>\n",
       "    </tr>\n",
       "    <tr>\n",
       "      <th>64620</th>\n",
       "      <td>○上召對玉堂講官, 講《心經》。 ○命賜金長生、金集同享書院額號曰遯巖。 李珥、李穡、金凈、...</td>\n",
       "      <td>상이 옥당의 강관을 소대하여 《심경》을 강하였다. 김장생(金長生)·김집(金集)을 함...</td>\n",
       "    </tr>\n",
       "    <tr>\n",
       "      <th>64621</th>\n",
       "      <td>○庚寅/上召對玉堂講官, 講《心經》。 講訖, 僉知中樞沈光洙曰: \"近來災異, 極可驚懼,...</td>\n",
       "      <td>상이 옥당의 강관을 소대하여 《심경》을 강하였다. 강을 마치고 나서 첨지중추(僉知中...</td>\n",
       "    </tr>\n",
       "    <tr>\n",
       "      <th>64622</th>\n",
       "      <td>○南原營將鄭後諶辭朝, 面諭以遣之。 ○壬辰/雨黃屑, 色如松花。</td>\n",
       "      <td>남원 영장(南原營將) 정후심(鄭後諶)이 하직 인사를 드리니, 면유(面諭)하여 보냈다...</td>\n",
       "    </tr>\n",
       "  </tbody>\n",
       "</table>\n",
       "<p>58264 rows × 2 columns</p>\n",
       "</div>"
      ],
      "text/plain": [
       "                                           original_text  \\\n",
       "0      ○朔甲午/夜電。 ○以兪拓基爲吏曹佐郞。 ○行都堂錄, 選李箕鎭、申晳、申昉、金鎭商、李重協...   \n",
       "1      ○丙申/以柳重茂、朴彙登爲承旨。 ○戊戌/以李敏英、李翊漢爲承旨, 任泂爲掌令, 洪龍祚爲正...   \n",
       "2      ○庚子/正言趙最壽上疏。 略曰:\\n今日廷臣, 不知何故, 自生疑懼, 爲計日深, 凡所以操...   \n",
       "3      ○甲辰/摠護使李健命請對, 陳山陵坐向、水破、分金書刻及先朝虛右處, 所埋分金、坐向, 與傳...   \n",
       "4      ○辛亥/以兪命雄爲工曹判書。 命雄, 庸迷無所通曉, 夤緣倖會, 得致八座, 人皆笑之。 ○...   \n",
       "...                                                  ...   \n",
       "64618  ○乙酉/右議政元斗杓呈告五度, 答曰: \"此何等時, 而卿之引入, 至於浹旬之久耶? 國事(...   \n",
       "64619  ○丁亥/忠洪道 西原縣佛像流汗。 ○憲府啓曰: \"全南監司徐必遠啓請: ‘刑曹罪囚趙義智, ...   \n",
       "64620  ○上召對玉堂講官, 講《心經》。 ○命賜金長生、金集同享書院額號曰遯巖。 李珥、李穡、金凈、...   \n",
       "64621  ○庚寅/上召對玉堂講官, 講《心經》。 講訖, 僉知中樞沈光洙曰: \"近來災異, 極可驚懼,...   \n",
       "64622                  ○南原營將鄭後諶辭朝, 面諭以遣之。 ○壬辰/雨黃屑, 色如松花。   \n",
       "\n",
       "                                         translated_text  \n",
       "0      밤에 번개가 쳤다. 유척기(兪拓基)를 이조 좌랑(吏曹佐郞)으로 삼았다. (도당록(都...  \n",
       "1      유중무(柳重茂)·박휘등(朴彙登)을 승지(承旨)로 삼았다. 이민영(李敏英)·이익한(李...  \n",
       "2      정언(正言) 조최수(趙最壽)가 소를 올렸는데, 대략 이르기를,\\n\"오늘날 조신(朝臣...  \n",
       "3      총호사(摠護使) 이건명(李健命)이 청대(請對)하여 산릉(山陵)의 좌향(坐向)·수파(...  \n",
       "4      유명웅(兪命雄)을 공조 판서(工曹判書)로 삼았다. 유명웅은 인품이 용렬하고 식견(識...  \n",
       "...                                                  ...  \n",
       "64618  우의정 원두표가 다섯 번째 정고(呈告)하니, 답하였다.\\n\"지금이 어떠한 때인데 경...  \n",
       "64619  충홍도 서원현(西原縣)에 있는 불상(佛像)에서 땀이 흘렀다. 헌부가 아뢰기를,\\n\"...  \n",
       "64620  상이 옥당의 강관을 소대하여 《심경》을 강하였다. 김장생(金長生)·김집(金集)을 함...  \n",
       "64621  상이 옥당의 강관을 소대하여 《심경》을 강하였다. 강을 마치고 나서 첨지중추(僉知中...  \n",
       "64622  남원 영장(南原營將) 정후심(鄭後諶)이 하직 인사를 드리니, 면유(面諭)하여 보냈다...  \n",
       "\n",
       "[58264 rows x 2 columns]"
      ]
     },
     "execution_count": 35,
     "metadata": {},
     "output_type": "execute_result"
    }
   ],
   "source": [
    "original_text_max_length = 2_000\n",
    "translated_text_max_length = 5_000\n",
    "droping_query = ((long_form_df['original_text'].str.len() <= original_text_max_length)\n",
    "                 & (long_form_df['translated_text'].str.len() <= translated_text_max_length))\n",
    "long_form_df = long_form_df[droping_query]\n",
    "\n",
    "print(f'Removed Fraction: {1 - droping_query.mean()}')\n",
    "\n",
    "long_form_df"
   ]
  },
  {
   "cell_type": "code",
   "execution_count": 36,
   "id": "cd205e3c",
   "metadata": {},
   "outputs": [
    {
     "data": {
      "text/plain": [
       "<Axes: >"
      ]
     },
     "execution_count": 36,
     "metadata": {},
     "output_type": "execute_result"
    },
    {
     "data": {
      "image/png": "[encoded data removed]",
      "text/plain": [
       "<Figure size 640x480 with 1 Axes>"
      ]
     },
     "metadata": {},
     "output_type": "display_data"
    }
   ],
   "source": [
    "long_form_df['original_text'].str.len().hist(bins=40)"
   ]
  },
  {
   "cell_type": "code",
   "execution_count": 37,
   "id": "bd917ee0",
   "metadata": {},
   "outputs": [
    {
     "data": {
      "text/plain": [
       "<Axes: >"
      ]
     },
     "execution_count": 37,
     "metadata": {},
     "output_type": "execute_result"
    },
    {
     "data": {
      "image/png": "[encoded data removed]",
      "text/plain": [
       "<Figure size 640x480 with 1 Axes>"
      ]
     },
     "metadata": {},
     "output_type": "display_data"
    }
   ],
   "source": [
    "long_form_df['translated_text'].str.len().hist(bins=40)"
   ]
  },
  {
   "cell_type": "code",
   "execution_count": 38,
   "id": "2a914dc5",
   "metadata": {},
   "outputs": [],
   "source": [
    "train_df, test_df = train_test_split(long_form_df, test_size=0.1, random_state=42, shuffle=True)"
   ]
  },
  {
   "cell_type": "code",
   "execution_count": 39,
   "id": "22dadc88",
   "metadata": {},
   "outputs": [
    {
     "data": {
      "text/plain": [
       "(52437, 5827)"
      ]
     },
     "execution_count": 39,
     "metadata": {},
     "output_type": "execute_result"
    }
   ],
   "source": [
    "len(train_df), len(test_df)"
   ]
  },
  {
   "cell_type": "code",
   "execution_count": 40,
   "id": "10fcc1bf",
   "metadata": {},
   "outputs": [],
   "source": [
    "train_df.to_parquet('./data/train.parquet')"
   ]
  },
  {
   "cell_type": "code",
   "execution_count": 41,
   "id": "b6b489cb",
   "metadata": {},
   "outputs": [],
   "source": [
    "test_df.to_parquet('./data/test.parquet')"
   ]
  }
 ],
 "metadata": {
  "kernelspec": {
   "display_name": "Python 3",
   "language": "python",
   "name": "python3"
  },
  "language_info": {
   "codemirror_mode": {
    "name": "ipython",
    "version": 3
   },
   "file_extension": ".py",
   "mimetype": "text/x-python",
   "name": "python",
   "nbconvert_exporter": "python",
   "pygments_lexer": "ipython3",
   "version": "3.11.11"
  }
 },
 "nbformat": 4,
 "nbformat_minor": 5
}
