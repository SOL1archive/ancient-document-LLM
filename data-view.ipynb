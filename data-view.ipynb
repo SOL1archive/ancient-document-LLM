{
 "cells": [
  {
   "cell_type": "code",
   "execution_count": 15,
   "id": "8456d2fb",
   "metadata": {},
   "outputs": [],
   "source": [
    "import numpy as np\n",
    "import pandas as pd"
   ]
  },
  {
   "cell_type": "code",
   "execution_count": 2,
   "id": "5ad145dd",
   "metadata": {},
   "outputs": [
    {
     "data": {
      "text/html": [
       "<div>\n",
       "<style scoped>\n",
       "    .dataframe tbody tr th:only-of-type {\n",
       "        vertical-align: middle;\n",
       "    }\n",
       "\n",
       "    .dataframe tbody tr th {\n",
       "        vertical-align: top;\n",
       "    }\n",
       "\n",
       "    .dataframe thead th {\n",
       "        text-align: right;\n",
       "    }\n",
       "</style>\n",
       "<table border=\"1\" class=\"dataframe\">\n",
       "  <thead>\n",
       "    <tr style=\"text-align: right;\">\n",
       "      <th></th>\n",
       "      <th>king</th>\n",
       "      <th>king_order</th>\n",
       "      <th>year</th>\n",
       "      <th>relative_year</th>\n",
       "      <th>month</th>\n",
       "      <th>entry_order</th>\n",
       "      <th>original_text</th>\n",
       "      <th>translated_text</th>\n",
       "    </tr>\n",
       "  </thead>\n",
       "  <tbody>\n",
       "    <tr>\n",
       "      <th>0</th>\n",
       "      <td>태조</td>\n",
       "      <td>1</td>\n",
       "      <td>NaN</td>\n",
       "      <td>NaN</td>\n",
       "      <td>총서</td>\n",
       "      <td>1.0</td>\n",
       "      <td>太祖康獻至仁啓運聖文神武大王, 姓李氏, 諱旦, 字君晋, 古諱成桂, 號松軒, 全州大姓也...</td>\n",
       "      <td>태조 강헌 지인 계운 성문 신무 대왕(太祖康獻至仁啓運聖文神武大王)의 성은 이씨(李氏...</td>\n",
       "    </tr>\n",
       "    <tr>\n",
       "      <th>1</th>\n",
       "      <td>태조</td>\n",
       "      <td>1</td>\n",
       "      <td>NaN</td>\n",
       "      <td>NaN</td>\n",
       "      <td>총서</td>\n",
       "      <td>2.0</td>\n",
       "      <td>○明年乙卯, 散吉聞于元帝, 元爲立斡東千戶所, 給降金牌, 爲南京等處五千戶所, 首千戶、...</td>\n",
       "      <td>명년 을묘(1255)에 산길이 이 사실을 원(元)나라 황제에게 알리니, 원나라에서 ...</td>\n",
       "    </tr>\n",
       "    <tr>\n",
       "      <th>2</th>\n",
       "      <td>태조</td>\n",
       "      <td>1</td>\n",
       "      <td>NaN</td>\n",
       "      <td>NaN</td>\n",
       "      <td>총서</td>\n",
       "      <td>3.0</td>\n",
       "      <td>○斡東東南三十餘里, 有海島曰者考羅, 北連於陸。 穆祖築石城, 以放牛馬。</td>\n",
       "      <td>알동의 동남쪽 30여 리에 해도(海島)가 있는데, 자고라(者考羅)라고 한다. 북쪽으...</td>\n",
       "    </tr>\n",
       "    <tr>\n",
       "      <th>3</th>\n",
       "      <td>태조</td>\n",
       "      <td>1</td>\n",
       "      <td>NaN</td>\n",
       "      <td>NaN</td>\n",
       "      <td>총서</td>\n",
       "      <td>4.0</td>\n",
       "      <td>○憲宗八年, 受散吉令旨, 管領李春、文大純、趙奧、魯哥兒、卓靑、尙哉、光奕、張哥等八介百戶...</td>\n",
       "      <td>〈원나라〉 헌종(憲宗) 8년(1258)에 산길(散吉)의 영지(令旨)를 받아, 이춘(...</td>\n",
       "    </tr>\n",
       "    <tr>\n",
       "      <th>4</th>\n",
       "      <td>태조</td>\n",
       "      <td>1</td>\n",
       "      <td>NaN</td>\n",
       "      <td>NaN</td>\n",
       "      <td>총서</td>\n",
       "      <td>5.0</td>\n",
       "      <td>○世祖皇帝 中統二年辛酉六月, 尙書省給降本所行使銅印。</td>\n",
       "      <td>세조 황제(世祖皇帝) 중통(中統) 2년(1261) 신유 6월에 상서성(尙書省)에서 ...</td>\n",
       "    </tr>\n",
       "  </tbody>\n",
       "</table>\n",
       "</div>"
      ],
      "text/plain": [
       "  king  king_order  year  relative_year month  entry_order  \\\n",
       "0   태조           1   NaN            NaN    총서          1.0   \n",
       "1   태조           1   NaN            NaN    총서          2.0   \n",
       "2   태조           1   NaN            NaN    총서          3.0   \n",
       "3   태조           1   NaN            NaN    총서          4.0   \n",
       "4   태조           1   NaN            NaN    총서          5.0   \n",
       "\n",
       "                                       original_text  \\\n",
       "0  太祖康獻至仁啓運聖文神武大王, 姓李氏, 諱旦, 字君晋, 古諱成桂, 號松軒, 全州大姓也...   \n",
       "1  ○明年乙卯, 散吉聞于元帝, 元爲立斡東千戶所, 給降金牌, 爲南京等處五千戶所, 首千戶、...   \n",
       "2             ○斡東東南三十餘里, 有海島曰者考羅, 北連於陸。 穆祖築石城, 以放牛馬。   \n",
       "3  ○憲宗八年, 受散吉令旨, 管領李春、文大純、趙奧、魯哥兒、卓靑、尙哉、光奕、張哥等八介百戶...   \n",
       "4                       ○世祖皇帝 中統二年辛酉六月, 尙書省給降本所行使銅印。   \n",
       "\n",
       "                                     translated_text  \n",
       "0  태조 강헌 지인 계운 성문 신무 대왕(太祖康獻至仁啓運聖文神武大王)의 성은 이씨(李氏...  \n",
       "1  명년 을묘(1255)에 산길이 이 사실을 원(元)나라 황제에게 알리니, 원나라에서 ...  \n",
       "2  알동의 동남쪽 30여 리에 해도(海島)가 있는데, 자고라(者考羅)라고 한다. 북쪽으...  \n",
       "3  〈원나라〉 헌종(憲宗) 8년(1258)에 산길(散吉)의 영지(令旨)를 받아, 이춘(...  \n",
       "4  세조 황제(世祖皇帝) 중통(中統) 2년(1261) 신유 6월에 상서성(尙書省)에서 ...  "
      ]
     },
     "execution_count": 2,
     "metadata": {},
     "output_type": "execute_result"
    }
   ],
   "source": [
    "df1 = pd.read_parquet('./data/sillok_finetune.parquet', engine='pyarrow')\n",
    "df1.head()"
   ]
  },
  {
   "cell_type": "code",
   "execution_count": 3,
   "id": "e68cf944",
   "metadata": {},
   "outputs": [
    {
     "data": {
      "text/plain": [
       "year\n",
       "1618.0    5235\n",
       "1612.0    4061\n",
       "1613.0    3720\n",
       "1616.0    3440\n",
       "1617.0    3260\n",
       "          ... \n",
       "1607.0      54\n",
       "1586.0      47\n",
       "1571.0      43\n",
       "1582.0      37\n",
       "1928.0       7\n",
       "Name: count, Length: 372, dtype: int64"
      ]
     },
     "execution_count": 3,
     "metadata": {},
     "output_type": "execute_result"
    }
   ],
   "source": [
    "df1['year'].value_counts()"
   ]
  },
  {
   "cell_type": "code",
   "execution_count": 13,
   "id": "3c8483e8",
   "metadata": {},
   "outputs": [
    {
     "name": "stderr",
     "output_type": "stream",
     "text": [
      "/var/folders/l4/xcb152_d5v51k4kx19t42f0w0000gn/T/ipykernel_36170/1582849484.py:1: RuntimeWarning: invalid value encountered in cast\n",
      "  df1['relative_year'].unique().astype(int)\n"
     ]
    },
    {
     "data": {
      "text/plain": [
       "array([   0,    1,    2,    3,    4,    5,    6,    7,    8,    9,   10,\n",
       "         11,   12,   13,   14,   15,   16,   17,   18, 1418,   19,   20,\n",
       "         21,   22,   23,   24,   25,   26,   27,   28,   29,   30,   31,\n",
       "         32, 1450, 1468, 1469,   33,   34,   35,   36,   37,   38,   39,\n",
       "       1545, 1567,   40,   41, 1608, 1649, 1659, 1674,   42,   43,   44,\n",
       "         45,   46, 1720, 1863, 1907])"
      ]
     },
     "execution_count": 13,
     "metadata": {},
     "output_type": "execute_result"
    }
   ],
   "source": [
    "df1['relative_year'].unique().astype(int)"
   ]
  },
  {
   "cell_type": "code",
   "execution_count": 5,
   "id": "e4905f11",
   "metadata": {},
   "outputs": [
    {
     "data": {
      "text/plain": [
       "array(['총서', '7월', '8월', '9월', '10월', '11월', '12월', '윤12월', '1월', '2월',\n",
       "       '3월', '4월', '5월', '6월', '윤9월', '윤5월', '윤3월', '윤11월', '윤7월', '윤4월',\n",
       "       '윤1월', '윤8월', '윤6월', '윤2월', '윤10월'], dtype=object)"
      ]
     },
     "execution_count": 5,
     "metadata": {},
     "output_type": "execute_result"
    }
   ],
   "source": [
    "df1['month'].unique()"
   ]
  },
  {
   "cell_type": "code",
   "execution_count": 6,
   "id": "f6e7810e",
   "metadata": {},
   "outputs": [
    {
     "data": {
      "text/plain": [
       "308554"
      ]
     },
     "execution_count": 6,
     "metadata": {},
     "output_type": "execute_result"
    }
   ],
   "source": [
    "len(df1)"
   ]
  },
  {
   "cell_type": "code",
   "execution_count": 7,
   "id": "6ac8bbc6",
   "metadata": {},
   "outputs": [
    {
     "data": {
      "text/plain": [
       "'○庚戌/次松折院, 鐵原人安得命拜于道左, 年八十, 賜木緜衣一領。'"
      ]
     },
     "execution_count": 7,
     "metadata": {},
     "output_type": "execute_result"
    }
   ],
   "source": [
    "df1['original_text'].sample(1).iloc[0]"
   ]
  },
  {
   "cell_type": "code",
   "execution_count": 8,
   "id": "35f90192",
   "metadata": {},
   "outputs": [
    {
     "data": {
      "text/plain": [
       "count    308554.000000\n",
       "mean        215.600537\n",
       "std        1404.764642\n",
       "min           2.000000\n",
       "25%          22.000000\n",
       "50%          73.000000\n",
       "75%         200.000000\n",
       "max      361261.000000\n",
       "Name: original_text, dtype: float64"
      ]
     },
     "execution_count": 8,
     "metadata": {},
     "output_type": "execute_result"
    }
   ],
   "source": [
    "df1['original_text'].str.len().describe()"
   ]
  },
  {
   "cell_type": "code",
   "execution_count": 9,
   "id": "c555c3be",
   "metadata": {},
   "outputs": [
    {
     "data": {
      "text/plain": [
       "0.0016625939057668998"
      ]
     },
     "execution_count": 9,
     "metadata": {},
     "output_type": "execute_result"
    }
   ],
   "source": [
    "(df1['original_text'].str.len() > 5000).mean()"
   ]
  },
  {
   "cell_type": "code",
   "execution_count": 14,
   "id": "9bf14878",
   "metadata": {},
   "outputs": [
    {
     "data": {
      "text/plain": [
       "0.008789385326393435"
      ]
     },
     "execution_count": 14,
     "metadata": {},
     "output_type": "execute_result"
    }
   ],
   "source": [
    "(df1['translated_text'].str.len() > 5000).mean()"
   ]
  },
  {
   "cell_type": "code",
   "execution_count": 16,
   "id": "5c4dc1aa",
   "metadata": {},
   "outputs": [
    {
     "data": {
      "text/plain": [
       "array([[1.        , 0.54443249],\n",
       "       [0.54443249, 1.        ]])"
      ]
     },
     "execution_count": 16,
     "metadata": {},
     "output_type": "execute_result"
    }
   ],
   "source": [
    "np.corrcoef(df1['original_text'].str.len(), df1['translated_text'].str.len())"
   ]
  },
  {
   "cell_type": "code",
   "execution_count": null,
   "id": "fbdfefdb",
   "metadata": {},
   "outputs": [],
   "source": [
    "df1[df1['original_text'].str.len() < 1000]['translated_text'].str.len().describe()"
   ]
  },
  {
   "cell_type": "code",
   "execution_count": 19,
   "id": "be0ce377",
   "metadata": {},
   "outputs": [
    {
     "data": {
      "text/plain": [
       "count    280374.000000\n",
       "mean        268.493751\n",
       "std         325.297855\n",
       "min           0.000000\n",
       "25%          46.000000\n",
       "50%         139.000000\n",
       "75%         373.000000\n",
       "max       10633.000000\n",
       "Name: translated_text, dtype: float64"
      ]
     },
     "execution_count": 19,
     "metadata": {},
     "output_type": "execute_result"
    }
   ],
   "source": [
    "df1[df1['original_text'].str.len() < 500]['translated_text'].str.len().describe()"
   ]
  },
  {
   "cell_type": "code",
   "execution_count": 10,
   "id": "abf98819",
   "metadata": {},
   "outputs": [
    {
     "data": {
      "text/plain": [
       "count     308554\n",
       "mean         516\n",
       "std         3006\n",
       "min            0\n",
       "25%           52\n",
       "50%          170\n",
       "75%          510\n",
       "max      1232042\n",
       "Name: translated_text, dtype: int64"
      ]
     },
     "execution_count": 10,
     "metadata": {},
     "output_type": "execute_result"
    }
   ],
   "source": [
    "df1['translated_text'].str.len().describe().astype(int)"
   ]
  },
  {
   "cell_type": "code",
   "execution_count": 11,
   "id": "b98ccc6f",
   "metadata": {},
   "outputs": [
    {
     "data": {
      "text/plain": [
       "<Axes: >"
      ]
     },
     "execution_count": 11,
     "metadata": {},
     "output_type": "execute_result"
    },
    {
     "data": {
      "image/png": "[encoded data removed]",
      "text/plain": [
       "<Figure size 640x480 with 1 Axes>"
      ]
     },
     "metadata": {},
     "output_type": "display_data"
    }
   ],
   "source": [
    "df1['original_text'].str.len().hist(bins=100)"
   ]
  },
  {
   "cell_type": "code",
   "execution_count": 12,
   "id": "9ddcd66e",
   "metadata": {},
   "outputs": [
    {
     "data": {
      "text/plain": [
       "<Axes: >"
      ]
     },
     "execution_count": 12,
     "metadata": {},
     "output_type": "execute_result"
    },
    {
     "data": {
      "image/png": "[encoded data removed]",
      "text/plain": [
       "<Figure size 640x480 with 1 Axes>"
      ]
     },
     "metadata": {},
     "output_type": "display_data"
    }
   ],
   "source": [
    "df1['translated_text'].str.len().hist(bins=100)"
   ]
  }
 ],
 "metadata": {
  "kernelspec": {
   "display_name": "Python 3",
   "language": "python",
   "name": "python3"
  },
  "language_info": {
   "codemirror_mode": {
    "name": "ipython",
    "version": 3
   },
   "file_extension": ".py",
   "mimetype": "text/x-python",
   "name": "python",
   "nbconvert_exporter": "python",
   "pygments_lexer": "ipython3",
   "version": "3.11.11"
  }
 },
 "nbformat": 4,
 "nbformat_minor": 5
}
